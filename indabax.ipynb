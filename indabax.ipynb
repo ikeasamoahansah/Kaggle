{
 "cells": [
  {
   "cell_type": "code",
   "execution_count": 1,
   "id": "378a316c",
   "metadata": {
    "_cell_guid": "b1076dfc-b9ad-4769-8c92-a6c4dae69d19",
    "_uuid": "8f2839f25d086af736a60e9eeb907d3b93b6e0e5",
    "execution": {
     "iopub.execute_input": "2024-07-11T08:54:36.464492Z",
     "iopub.status.busy": "2024-07-11T08:54:36.464032Z",
     "iopub.status.idle": "2024-07-11T08:54:37.466386Z",
     "shell.execute_reply": "2024-07-11T08:54:37.464693Z"
    },
    "papermill": {
     "duration": 1.015757,
     "end_time": "2024-07-11T08:54:37.468933",
     "exception": false,
     "start_time": "2024-07-11T08:54:36.453176",
     "status": "completed"
    },
    "tags": []
   },
   "outputs": [
    {
     "name": "stdout",
     "output_type": "stream",
     "text": [
      "/kaggle/input/dataset/Dummy Dataset for Challenge2.xlsx\n"
     ]
    }
   ],
   "source": [
    "# This Python 3 environment comes with many helpful analytics libraries installed\n",
    "# It is defined by the kaggle/python Docker image: https://github.com/kaggle/docker-python\n",
    "# For example, here's several helpful packages to load\n",
    "\n",
    "import numpy as np # linear algebra\n",
    "import pandas as pd # data processing, CSV file I/O (e.g. pd.read_csv)\n",
    "\n",
    "# Input data files are available in the read-only \"../input/\" directory\n",
    "# For example, running this (by clicking run or pressing Shift+Enter) will list all files under the input directory\n",
    "\n",
    "import os\n",
    "for dirname, _, filenames in os.walk('/kaggle/input'):\n",
    "    for filename in filenames:\n",
    "        print(os.path.join(dirname, filename))\n",
    "\n",
    "# You can write up to 20GB to the current directory (/kaggle/working/) that gets preserved as output when you create a version using \"Save & Run All\" \n",
    "# You can also write temporary files to /kaggle/temp/, but they won't be saved outside of the current session"
   ]
  },
  {
   "cell_type": "code",
   "execution_count": 2,
   "id": "95fb0775",
   "metadata": {
    "execution": {
     "iopub.execute_input": "2024-07-11T08:54:37.488930Z",
     "iopub.status.busy": "2024-07-11T08:54:37.488304Z",
     "iopub.status.idle": "2024-07-11T08:54:38.985017Z",
     "shell.execute_reply": "2024-07-11T08:54:38.983822Z"
    },
    "papermill": {
     "duration": 1.510418,
     "end_time": "2024-07-11T08:54:38.988375",
     "exception": false,
     "start_time": "2024-07-11T08:54:37.477957",
     "status": "completed"
    },
    "tags": []
   },
   "outputs": [],
   "source": [
    "df = pd.read_excel('/kaggle/input/dataset/Dummy Dataset for Challenge2.xlsx')"
   ]
  },
  {
   "cell_type": "code",
   "execution_count": 3,
   "id": "44323856",
   "metadata": {
    "execution": {
     "iopub.execute_input": "2024-07-11T08:54:39.014226Z",
     "iopub.status.busy": "2024-07-11T08:54:39.013389Z",
     "iopub.status.idle": "2024-07-11T08:54:39.024424Z",
     "shell.execute_reply": "2024-07-11T08:54:39.022948Z"
    },
    "papermill": {
     "duration": 0.024336,
     "end_time": "2024-07-11T08:54:39.027039",
     "exception": false,
     "start_time": "2024-07-11T08:54:39.002703",
     "status": "completed"
    },
    "tags": []
   },
   "outputs": [
    {
     "data": {
      "text/plain": [
       "(4418, 13)"
      ]
     },
     "execution_count": 3,
     "metadata": {},
     "output_type": "execute_result"
    }
   ],
   "source": [
    "df.shape"
   ]
  },
  {
   "cell_type": "code",
   "execution_count": 4,
   "id": "a98af66c",
   "metadata": {
    "execution": {
     "iopub.execute_input": "2024-07-11T08:54:39.047566Z",
     "iopub.status.busy": "2024-07-11T08:54:39.047054Z",
     "iopub.status.idle": "2024-07-11T08:54:39.068461Z",
     "shell.execute_reply": "2024-07-11T08:54:39.067221Z"
    },
    "papermill": {
     "duration": 0.034606,
     "end_time": "2024-07-11T08:54:39.071011",
     "exception": false,
     "start_time": "2024-07-11T08:54:39.036405",
     "status": "completed"
    },
    "tags": []
   },
   "outputs": [
    {
     "data": {
      "text/plain": [
       "ITEM_NAME          0\n",
       "CATEGORY           0\n",
       "SEGMENT            0\n",
       "MANUFACTURER       0\n",
       "BRAND              0\n",
       "VARIANT         3701\n",
       "TYPE            2698\n",
       "FRAGRANCE       4077\n",
       "FLAVOUR         3362\n",
       "ADD-ON          3919\n",
       "PACK SIZE          0\n",
       "PACKAGE TYPE       0\n",
       "TAGLINE         2916\n",
       "dtype: int64"
      ]
     },
     "execution_count": 4,
     "metadata": {},
     "output_type": "execute_result"
    }
   ],
   "source": [
    "df.isna().sum()"
   ]
  },
  {
   "cell_type": "code",
   "execution_count": 5,
   "id": "f69ba46a",
   "metadata": {
    "execution": {
     "iopub.execute_input": "2024-07-11T08:54:39.094039Z",
     "iopub.status.busy": "2024-07-11T08:54:39.093663Z",
     "iopub.status.idle": "2024-07-11T08:54:39.114965Z",
     "shell.execute_reply": "2024-07-11T08:54:39.113797Z"
    },
    "papermill": {
     "duration": 0.037869,
     "end_time": "2024-07-11T08:54:39.117849",
     "exception": false,
     "start_time": "2024-07-11T08:54:39.079980",
     "status": "completed"
    },
    "tags": []
   },
   "outputs": [
    {
     "data": {
      "text/html": [
       "<div>\n",
       "<style scoped>\n",
       "    .dataframe tbody tr th:only-of-type {\n",
       "        vertical-align: middle;\n",
       "    }\n",
       "\n",
       "    .dataframe tbody tr th {\n",
       "        vertical-align: top;\n",
       "    }\n",
       "\n",
       "    .dataframe thead th {\n",
       "        text-align: right;\n",
       "    }\n",
       "</style>\n",
       "<table border=\"1\" class=\"dataframe\">\n",
       "  <thead>\n",
       "    <tr style=\"text-align: right;\">\n",
       "      <th></th>\n",
       "      <th>ITEM_NAME</th>\n",
       "      <th>CATEGORY</th>\n",
       "      <th>SEGMENT</th>\n",
       "      <th>MANUFACTURER</th>\n",
       "      <th>BRAND</th>\n",
       "      <th>VARIANT</th>\n",
       "      <th>TYPE</th>\n",
       "      <th>FRAGRANCE</th>\n",
       "      <th>FLAVOUR</th>\n",
       "      <th>ADD-ON</th>\n",
       "      <th>PACK SIZE</th>\n",
       "      <th>PACKAGE TYPE</th>\n",
       "      <th>TAGLINE</th>\n",
       "    </tr>\n",
       "  </thead>\n",
       "  <tbody>\n",
       "    <tr>\n",
       "      <th>4413</th>\n",
       "      <td>ROSA  MAYONNAISE   PREMIUM RICH AND CREAMY 1L ...</td>\n",
       "      <td>EDIBLE SPREAD</td>\n",
       "      <td>MAYONNAISE</td>\n",
       "      <td>IGNIS INDUSTRIES LIMITED</td>\n",
       "      <td>ROSA</td>\n",
       "      <td>NaN</td>\n",
       "      <td>MAYONNAISE</td>\n",
       "      <td>NaN</td>\n",
       "      <td>NaN</td>\n",
       "      <td>NaN</td>\n",
       "      <td>1L</td>\n",
       "      <td>GLASS JAR</td>\n",
       "      <td>PREMIUM RICH AND CREAMY</td>\n",
       "    </tr>\n",
       "    <tr>\n",
       "      <th>4414</th>\n",
       "      <td>COLZA VEGETABLE OIL  NATURELLEMENT RICHE EN OM...</td>\n",
       "      <td>EDIBLE OIL</td>\n",
       "      <td>EDIBLE OIL</td>\n",
       "      <td>COTRAF CI</td>\n",
       "      <td>COLZA</td>\n",
       "      <td>VEGETABLE OIL</td>\n",
       "      <td>NaN</td>\n",
       "      <td>NaN</td>\n",
       "      <td>NaN</td>\n",
       "      <td>NaN</td>\n",
       "      <td>10L</td>\n",
       "      <td>GALLON</td>\n",
       "      <td>NATURELLEMENT RICHE EN OMEGA 3-6 &amp; 9</td>\n",
       "    </tr>\n",
       "    <tr>\n",
       "      <th>4415</th>\n",
       "      <td>DAGABA      370G POUCH NUTRIFOODS LTD</td>\n",
       "      <td>TOMATO PASTE</td>\n",
       "      <td>PURE TOMATO PASTE</td>\n",
       "      <td>NUTRIFOODS LTD</td>\n",
       "      <td>DAGABA</td>\n",
       "      <td>NaN</td>\n",
       "      <td>NaN</td>\n",
       "      <td>NaN</td>\n",
       "      <td>NaN</td>\n",
       "      <td>NaN</td>\n",
       "      <td>370G</td>\n",
       "      <td>POUCH</td>\n",
       "      <td>NaN</td>\n",
       "    </tr>\n",
       "    <tr>\n",
       "      <th>4416</th>\n",
       "      <td>EUROPA   DOUBLE CONCENTRATE TOMATO PASTE   400...</td>\n",
       "      <td>TOMATO PASTE</td>\n",
       "      <td>PURE TOMATO PASTE</td>\n",
       "      <td>VISION EXPORTS</td>\n",
       "      <td>EUROPA</td>\n",
       "      <td>NaN</td>\n",
       "      <td>NaN</td>\n",
       "      <td>NaN</td>\n",
       "      <td>NaN</td>\n",
       "      <td>NaN</td>\n",
       "      <td>400G</td>\n",
       "      <td>TIN</td>\n",
       "      <td>DOUBLE CONCENTRATE TOMATO PASTE</td>\n",
       "    </tr>\n",
       "    <tr>\n",
       "      <th>4417</th>\n",
       "      <td>BAMA  MAYONNAISE  LEMON  385ML PLASTIC JAR GB ...</td>\n",
       "      <td>EDIBLE SPREAD</td>\n",
       "      <td>MAYONNAISE</td>\n",
       "      <td>GB FOODS</td>\n",
       "      <td>BAMA</td>\n",
       "      <td>NaN</td>\n",
       "      <td>MAYONNAISE</td>\n",
       "      <td>NaN</td>\n",
       "      <td>NaN</td>\n",
       "      <td>LEMON</td>\n",
       "      <td>385ML</td>\n",
       "      <td>PLASTIC JAR</td>\n",
       "      <td>NaN</td>\n",
       "    </tr>\n",
       "  </tbody>\n",
       "</table>\n",
       "</div>"
      ],
      "text/plain": [
       "                                              ITEM_NAME       CATEGORY  \\\n",
       "4413  ROSA  MAYONNAISE   PREMIUM RICH AND CREAMY 1L ...  EDIBLE SPREAD   \n",
       "4414  COLZA VEGETABLE OIL  NATURELLEMENT RICHE EN OM...     EDIBLE OIL   \n",
       "4415              DAGABA      370G POUCH NUTRIFOODS LTD   TOMATO PASTE   \n",
       "4416  EUROPA   DOUBLE CONCENTRATE TOMATO PASTE   400...   TOMATO PASTE   \n",
       "4417  BAMA  MAYONNAISE  LEMON  385ML PLASTIC JAR GB ...  EDIBLE SPREAD   \n",
       "\n",
       "                SEGMENT              MANUFACTURER   BRAND        VARIANT  \\\n",
       "4413         MAYONNAISE  IGNIS INDUSTRIES LIMITED    ROSA            NaN   \n",
       "4414         EDIBLE OIL                 COTRAF CI   COLZA  VEGETABLE OIL   \n",
       "4415  PURE TOMATO PASTE            NUTRIFOODS LTD  DAGABA            NaN   \n",
       "4416  PURE TOMATO PASTE            VISION EXPORTS  EUROPA            NaN   \n",
       "4417         MAYONNAISE                  GB FOODS    BAMA            NaN   \n",
       "\n",
       "            TYPE FRAGRANCE FLAVOUR ADD-ON PACK SIZE PACKAGE TYPE  \\\n",
       "4413  MAYONNAISE       NaN     NaN    NaN        1L    GLASS JAR   \n",
       "4414         NaN       NaN     NaN    NaN       10L       GALLON   \n",
       "4415         NaN       NaN     NaN    NaN      370G        POUCH   \n",
       "4416         NaN       NaN     NaN    NaN      400G          TIN   \n",
       "4417  MAYONNAISE       NaN     NaN  LEMON     385ML  PLASTIC JAR   \n",
       "\n",
       "                                   TAGLINE  \n",
       "4413               PREMIUM RICH AND CREAMY  \n",
       "4414  NATURELLEMENT RICHE EN OMEGA 3-6 & 9  \n",
       "4415                                   NaN  \n",
       "4416       DOUBLE CONCENTRATE TOMATO PASTE  \n",
       "4417                                   NaN  "
      ]
     },
     "execution_count": 5,
     "metadata": {},
     "output_type": "execute_result"
    }
   ],
   "source": [
    "df.tail()"
   ]
  },
  {
   "cell_type": "code",
   "execution_count": 6,
   "id": "6db2cfe3",
   "metadata": {
    "execution": {
     "iopub.execute_input": "2024-07-11T08:54:39.138785Z",
     "iopub.status.busy": "2024-07-11T08:54:39.138387Z",
     "iopub.status.idle": "2024-07-11T08:54:39.155227Z",
     "shell.execute_reply": "2024-07-11T08:54:39.153880Z"
    },
    "papermill": {
     "duration": 0.030479,
     "end_time": "2024-07-11T08:54:39.157902",
     "exception": false,
     "start_time": "2024-07-11T08:54:39.127423",
     "status": "completed"
    },
    "tags": []
   },
   "outputs": [],
   "source": [
    "# Clean data\n",
    "\n",
    "categorical_columns = ['VARIANT', 'TYPE', 'FRAGRANCE', 'FLAVOUR', 'ADD-ON', 'TAGLINE']\n",
    "for column in categorical_columns:\n",
    "    df.fillna({column: 'Unknown' if column != 'ADD-ON' else 'None'}, inplace=True)"
   ]
  },
  {
   "cell_type": "code",
   "execution_count": 7,
   "id": "c34591a0",
   "metadata": {
    "execution": {
     "iopub.execute_input": "2024-07-11T08:54:39.178996Z",
     "iopub.status.busy": "2024-07-11T08:54:39.178218Z",
     "iopub.status.idle": "2024-07-11T08:54:39.195233Z",
     "shell.execute_reply": "2024-07-11T08:54:39.193983Z"
    },
    "papermill": {
     "duration": 0.03059,
     "end_time": "2024-07-11T08:54:39.197760",
     "exception": false,
     "start_time": "2024-07-11T08:54:39.167170",
     "status": "completed"
    },
    "tags": []
   },
   "outputs": [
    {
     "data": {
      "text/html": [
       "<div>\n",
       "<style scoped>\n",
       "    .dataframe tbody tr th:only-of-type {\n",
       "        vertical-align: middle;\n",
       "    }\n",
       "\n",
       "    .dataframe tbody tr th {\n",
       "        vertical-align: top;\n",
       "    }\n",
       "\n",
       "    .dataframe thead th {\n",
       "        text-align: right;\n",
       "    }\n",
       "</style>\n",
       "<table border=\"1\" class=\"dataframe\">\n",
       "  <thead>\n",
       "    <tr style=\"text-align: right;\">\n",
       "      <th></th>\n",
       "      <th>ITEM_NAME</th>\n",
       "      <th>CATEGORY</th>\n",
       "      <th>SEGMENT</th>\n",
       "      <th>MANUFACTURER</th>\n",
       "      <th>BRAND</th>\n",
       "      <th>VARIANT</th>\n",
       "      <th>TYPE</th>\n",
       "      <th>FRAGRANCE</th>\n",
       "      <th>FLAVOUR</th>\n",
       "      <th>ADD-ON</th>\n",
       "      <th>PACK SIZE</th>\n",
       "      <th>PACKAGE TYPE</th>\n",
       "      <th>TAGLINE</th>\n",
       "    </tr>\n",
       "  </thead>\n",
       "  <tbody>\n",
       "    <tr>\n",
       "      <th>0</th>\n",
       "      <td>3X ENERGY      330ML CAN KHAZAAL INDUSTRIES</td>\n",
       "      <td>ENERGY DRINK</td>\n",
       "      <td>ENERGY DRINK</td>\n",
       "      <td>KHAZAAL INDUSTRIES</td>\n",
       "      <td>3X ENERGY</td>\n",
       "      <td>Unknown</td>\n",
       "      <td>Unknown</td>\n",
       "      <td>Unknown</td>\n",
       "      <td>Unknown</td>\n",
       "      <td>None</td>\n",
       "      <td>330ML</td>\n",
       "      <td>CAN</td>\n",
       "      <td>Unknown</td>\n",
       "    </tr>\n",
       "    <tr>\n",
       "      <th>1</th>\n",
       "      <td>3X ENERGY      500ML CAN KHAZAAL INDUSTRIES</td>\n",
       "      <td>ENERGY DRINK</td>\n",
       "      <td>ENERGY DRINK</td>\n",
       "      <td>KHAZAAL INDUSTRIES</td>\n",
       "      <td>3X ENERGY</td>\n",
       "      <td>Unknown</td>\n",
       "      <td>Unknown</td>\n",
       "      <td>Unknown</td>\n",
       "      <td>Unknown</td>\n",
       "      <td>None</td>\n",
       "      <td>500ML</td>\n",
       "      <td>CAN</td>\n",
       "      <td>Unknown</td>\n",
       "    </tr>\n",
       "    <tr>\n",
       "      <th>2</th>\n",
       "      <td>AMERICAN COLA     ORIGINAL 300ML PLASTIC BOTTL...</td>\n",
       "      <td>SOFT DRINK BEVERAGE</td>\n",
       "      <td>CARBONATED SOFT DRINK</td>\n",
       "      <td>MONARCH BEVERAGES</td>\n",
       "      <td>AMERICAN COLA</td>\n",
       "      <td>Unknown</td>\n",
       "      <td>Unknown</td>\n",
       "      <td>Unknown</td>\n",
       "      <td>Unknown</td>\n",
       "      <td>None</td>\n",
       "      <td>300ML</td>\n",
       "      <td>PLASTIC BOTTLE</td>\n",
       "      <td>ORIGINAL</td>\n",
       "    </tr>\n",
       "    <tr>\n",
       "      <th>3</th>\n",
       "      <td>AROMATE  MAYONNAISE  WITH SUNFLOWER OIL ENRICH...</td>\n",
       "      <td>EDIBLE SPREAD</td>\n",
       "      <td>MAYONNAISE</td>\n",
       "      <td>SIPROCHIM</td>\n",
       "      <td>AROMATE</td>\n",
       "      <td>Unknown</td>\n",
       "      <td>MAYONNAISE</td>\n",
       "      <td>Unknown</td>\n",
       "      <td>Unknown</td>\n",
       "      <td>WITH SUNFLOWER OIL</td>\n",
       "      <td>25ML</td>\n",
       "      <td>SACHET</td>\n",
       "      <td>ENRICHED WITH OMEGA 6 ET EN VITAMINE E</td>\n",
       "    </tr>\n",
       "    <tr>\n",
       "      <th>4</th>\n",
       "      <td>AYA  BUTTER    200G WRAPPED AYA FOODS</td>\n",
       "      <td>EDIBLE SPREAD</td>\n",
       "      <td>BUTTER</td>\n",
       "      <td>AYA FOODS</td>\n",
       "      <td>AYA</td>\n",
       "      <td>Unknown</td>\n",
       "      <td>BUTTER</td>\n",
       "      <td>Unknown</td>\n",
       "      <td>Unknown</td>\n",
       "      <td>None</td>\n",
       "      <td>200G</td>\n",
       "      <td>WRAPPED</td>\n",
       "      <td>Unknown</td>\n",
       "    </tr>\n",
       "  </tbody>\n",
       "</table>\n",
       "</div>"
      ],
      "text/plain": [
       "                                           ITEM_NAME             CATEGORY  \\\n",
       "0        3X ENERGY      330ML CAN KHAZAAL INDUSTRIES         ENERGY DRINK   \n",
       "1        3X ENERGY      500ML CAN KHAZAAL INDUSTRIES         ENERGY DRINK   \n",
       "2  AMERICAN COLA     ORIGINAL 300ML PLASTIC BOTTL...  SOFT DRINK BEVERAGE   \n",
       "3  AROMATE  MAYONNAISE  WITH SUNFLOWER OIL ENRICH...        EDIBLE SPREAD   \n",
       "4              AYA  BUTTER    200G WRAPPED AYA FOODS        EDIBLE SPREAD   \n",
       "\n",
       "                 SEGMENT        MANUFACTURER          BRAND  VARIANT  \\\n",
       "0           ENERGY DRINK  KHAZAAL INDUSTRIES      3X ENERGY  Unknown   \n",
       "1           ENERGY DRINK  KHAZAAL INDUSTRIES      3X ENERGY  Unknown   \n",
       "2  CARBONATED SOFT DRINK   MONARCH BEVERAGES  AMERICAN COLA  Unknown   \n",
       "3             MAYONNAISE           SIPROCHIM        AROMATE  Unknown   \n",
       "4                 BUTTER           AYA FOODS            AYA  Unknown   \n",
       "\n",
       "         TYPE FRAGRANCE  FLAVOUR              ADD-ON PACK SIZE  \\\n",
       "0     Unknown   Unknown  Unknown                None     330ML   \n",
       "1     Unknown   Unknown  Unknown                None     500ML   \n",
       "2     Unknown   Unknown  Unknown                None     300ML   \n",
       "3  MAYONNAISE   Unknown  Unknown  WITH SUNFLOWER OIL      25ML   \n",
       "4      BUTTER   Unknown  Unknown                None      200G   \n",
       "\n",
       "     PACKAGE TYPE                                 TAGLINE  \n",
       "0             CAN                                 Unknown  \n",
       "1             CAN                                 Unknown  \n",
       "2  PLASTIC BOTTLE                                ORIGINAL  \n",
       "3          SACHET  ENRICHED WITH OMEGA 6 ET EN VITAMINE E  \n",
       "4         WRAPPED                                 Unknown  "
      ]
     },
     "execution_count": 7,
     "metadata": {},
     "output_type": "execute_result"
    }
   ],
   "source": [
    "df.head()"
   ]
  },
  {
   "cell_type": "code",
   "execution_count": 8,
   "id": "10eb60c3",
   "metadata": {
    "execution": {
     "iopub.execute_input": "2024-07-11T08:54:39.219166Z",
     "iopub.status.busy": "2024-07-11T08:54:39.218730Z",
     "iopub.status.idle": "2024-07-11T08:54:39.224198Z",
     "shell.execute_reply": "2024-07-11T08:54:39.222749Z"
    },
    "papermill": {
     "duration": 0.01943,
     "end_time": "2024-07-11T08:54:39.226827",
     "exception": false,
     "start_time": "2024-07-11T08:54:39.207397",
     "status": "completed"
    },
    "tags": []
   },
   "outputs": [],
   "source": [
    "# # df.duplicated(subset=['ITEM_NAME', 'PACK SIZE'])\n",
    "# df_clean = df.drop_duplicates(subset=['ITEM_NAME', 'PACK SIZE', 'PACKAGE TYPE', 'CATEGORY', 'SEGMENT', 'BRAND'], keep=\"first\")\n",
    "# df_clean"
   ]
  },
  {
   "cell_type": "code",
   "execution_count": 9,
   "id": "017a0d3a",
   "metadata": {
    "execution": {
     "iopub.execute_input": "2024-07-11T08:54:39.247819Z",
     "iopub.status.busy": "2024-07-11T08:54:39.247423Z",
     "iopub.status.idle": "2024-07-11T08:54:39.258400Z",
     "shell.execute_reply": "2024-07-11T08:54:39.257175Z"
    },
    "papermill": {
     "duration": 0.024555,
     "end_time": "2024-07-11T08:54:39.260955",
     "exception": false,
     "start_time": "2024-07-11T08:54:39.236400",
     "status": "completed"
    },
    "tags": []
   },
   "outputs": [],
   "source": [
    "df.drop(columns=['FRAGRANCE', 'FLAVOUR', 'ADD-ON'], inplace=True)"
   ]
  },
  {
   "cell_type": "code",
   "execution_count": 10,
   "id": "bd973f7b",
   "metadata": {
    "execution": {
     "iopub.execute_input": "2024-07-11T08:54:39.284460Z",
     "iopub.status.busy": "2024-07-11T08:54:39.283938Z",
     "iopub.status.idle": "2024-07-11T08:54:39.297129Z",
     "shell.execute_reply": "2024-07-11T08:54:39.295877Z"
    },
    "papermill": {
     "duration": 0.028874,
     "end_time": "2024-07-11T08:54:39.299786",
     "exception": false,
     "start_time": "2024-07-11T08:54:39.270912",
     "status": "completed"
    },
    "tags": []
   },
   "outputs": [
    {
     "data": {
      "text/plain": [
       "ITEM_NAME       0\n",
       "CATEGORY        0\n",
       "SEGMENT         0\n",
       "MANUFACTURER    0\n",
       "BRAND           0\n",
       "VARIANT         0\n",
       "TYPE            0\n",
       "PACK SIZE       0\n",
       "PACKAGE TYPE    0\n",
       "TAGLINE         0\n",
       "dtype: int64"
      ]
     },
     "execution_count": 10,
     "metadata": {},
     "output_type": "execute_result"
    }
   ],
   "source": [
    "df.isna().sum()"
   ]
  },
  {
   "cell_type": "code",
   "execution_count": 11,
   "id": "f46e6211",
   "metadata": {
    "execution": {
     "iopub.execute_input": "2024-07-11T08:54:39.322236Z",
     "iopub.status.busy": "2024-07-11T08:54:39.321789Z",
     "iopub.status.idle": "2024-07-11T08:54:39.334080Z",
     "shell.execute_reply": "2024-07-11T08:54:39.333033Z"
    },
    "papermill": {
     "duration": 0.026551,
     "end_time": "2024-07-11T08:54:39.336517",
     "exception": false,
     "start_time": "2024-07-11T08:54:39.309966",
     "status": "completed"
    },
    "tags": []
   },
   "outputs": [
    {
     "data": {
      "text/plain": [
       "ITEM_NAME       0\n",
       "CATEGORY        0\n",
       "SEGMENT         0\n",
       "MANUFACTURER    0\n",
       "BRAND           0\n",
       "PACK SIZE       0\n",
       "PACKAGE TYPE    0\n",
       "dtype: int64"
      ]
     },
     "execution_count": 11,
     "metadata": {},
     "output_type": "execute_result"
    }
   ],
   "source": [
    "df.drop(columns=['TAGLINE', 'VARIANT', 'TYPE'], inplace=True)\n",
    "df.isna().sum()"
   ]
  },
  {
   "cell_type": "code",
   "execution_count": 12,
   "id": "37413c15",
   "metadata": {
    "execution": {
     "iopub.execute_input": "2024-07-11T08:54:39.358330Z",
     "iopub.status.busy": "2024-07-11T08:54:39.357923Z",
     "iopub.status.idle": "2024-07-11T08:54:39.371080Z",
     "shell.execute_reply": "2024-07-11T08:54:39.369754Z"
    },
    "papermill": {
     "duration": 0.026764,
     "end_time": "2024-07-11T08:54:39.373662",
     "exception": false,
     "start_time": "2024-07-11T08:54:39.346898",
     "status": "completed"
    },
    "tags": []
   },
   "outputs": [
    {
     "data": {
      "text/plain": [
       "array(['ENERGY DRINK', 'SOFT DRINK BEVERAGE', 'EDIBLE SPREAD',\n",
       "       'EDIBLE OIL', 'MILK', 'POWDERED BEVERAGE', 'TOOTH PASTE',\n",
       "       'LAUNDRY DETERGENT', 'TEA', 'TOILET SOAP', 'FOOD SEASONING',\n",
       "       'PASTA', 'COFFEE', 'TOOTH BRUSH', 'TOMATO PASTE', 'FRUIT JUICE',\n",
       "       'HAND AND BODY CREAM', 'INFANT NUTRITION', 'FLAVOURED RTD',\n",
       "       'CHEESE', 'CHOCOLATE BARS', 'HOME AND HOUSE CARE', 'DEODORANT'],\n",
       "      dtype=object)"
      ]
     },
     "execution_count": 12,
     "metadata": {},
     "output_type": "execute_result"
    }
   ],
   "source": [
    "df['CATEGORY'].unique()"
   ]
  },
  {
   "cell_type": "code",
   "execution_count": 13,
   "id": "2196942a",
   "metadata": {
    "execution": {
     "iopub.execute_input": "2024-07-11T08:54:39.396593Z",
     "iopub.status.busy": "2024-07-11T08:54:39.396209Z",
     "iopub.status.idle": "2024-07-11T08:54:39.403044Z",
     "shell.execute_reply": "2024-07-11T08:54:39.402057Z"
    },
    "papermill": {
     "duration": 0.020758,
     "end_time": "2024-07-11T08:54:39.405165",
     "exception": false,
     "start_time": "2024-07-11T08:54:39.384407",
     "status": "completed"
    },
    "tags": []
   },
   "outputs": [
    {
     "name": "stdout",
     "output_type": "stream",
     "text": [
      "ITEM_NAME: 2595\n"
     ]
    }
   ],
   "source": [
    "print('ITEM_NAME:', df['ITEM_NAME'].nunique())\n"
   ]
  },
  {
   "cell_type": "code",
   "execution_count": 14,
   "id": "08d0e979",
   "metadata": {
    "execution": {
     "iopub.execute_input": "2024-07-11T08:54:39.428287Z",
     "iopub.status.busy": "2024-07-11T08:54:39.427859Z",
     "iopub.status.idle": "2024-07-11T08:54:39.438288Z",
     "shell.execute_reply": "2024-07-11T08:54:39.436019Z"
    },
    "papermill": {
     "duration": 0.02486,
     "end_time": "2024-07-11T08:54:39.440728",
     "exception": false,
     "start_time": "2024-07-11T08:54:39.415868",
     "status": "completed"
    },
    "tags": []
   },
   "outputs": [
    {
     "name": "stdout",
     "output_type": "stream",
     "text": [
      "BRAND: ['3X ENERGY' 'AMERICAN COLA' 'AROMATE' 'AYA' 'BABA LAIT' 'BONNET ROUGE'\n",
      " 'CANDIA' 'CHOCO FUNY' 'CLOSE UP' 'COCA COLA' \"CODY'S\" 'DINOR' 'FANICO'\n",
      " 'FANTA' 'FLASH' 'GOOD LAIT' 'LAITY' 'LIPTON' 'LP' 'LUX' 'MAGGI' 'MAMAN'\n",
      " 'MILO' 'MON SAVON' 'NESCAFE' 'NIL' 'OLINDA' 'OMO' 'ORAL CLEAN' 'ORANGINA'\n",
      " 'PEARL' 'PRINCESSE' 'SAINT AVE' 'SALSA' 'SIGNAL' 'SPRITE' 'TOP CHEF'\n",
      " 'VIMTO' 'YOUKI' 'ACHOURA' 'ALYSSA' 'ARC' 'CALVE' 'CHOCOMAX' 'DOFFI'\n",
      " 'IDEAL PLUS' 'IVORIO' 'KAPA' 'KOURA' 'LAVITA' 'LONGRICH' 'MAXIMOUSSE'\n",
      " 'MAYA' 'NIDO' 'SOLE MIO' 'PROTEX' 'REXONA' 'SIVODERM' 'STAR FRESH'\n",
      " 'SUCCES' 'YOUZOU' 'BLACK THE ORIGINAL' 'CERELAC' 'COWBELL' 'DOUBLE SEVEN'\n",
      " 'KADI' 'LAIT FATIMA' 'LE CHAT' 'OKI' 'PHARMADERM' 'QUALITEA' 'SOLEIL'\n",
      " 'SWISS CAFE' 'WORLD COLA' 'XTREME' 'BELIVOIR' 'BUBBLE UP' 'COLGATE'\n",
      " 'DENTYGEL' 'IBAKO' 'MAGG' 'MAGICO' 'PUR' 'TOP LAIT' 'TOP SAHO' 'VIP'\n",
      " 'CHOCOQUIK' 'KORA' 'NOUR' 'DELICIA' 'LACSTAR' 'LUCINA' 'BF' 'MINK'\n",
      " 'ORAL B' 'PLANET' 'TOP MAYO' 'ADJA' 'DOLI' 'MASSA MUSSO' 'MAXI BOUILLON'\n",
      " 'BULLET' 'CROSS' 'FARINOR' 'FLUORYL' 'FRIOR' 'HUB' 'KHAIMA' 'MIA'\n",
      " \"PALME D'OR\" 'POWER BANG' 'PRESSEA' 'RAMA' 'BLUE PEARL' 'EVER SHEEN'\n",
      " \"TOP'\" 'HONDI' 'GOUDOR' 'NADA' 'ANTOU' 'BAMA' 'JUMBO' 'MY TOMATO'\n",
      " 'SANTINA' 'WELI JUNGO' 'GOD GIVEN' 'JONGUE' 'JOKER' 'ROCO' 'ARAFAT'\n",
      " 'COWMILK' 'MILKO' 'SULTAN' 'AL FINA' 'BONJOURNE' 'TYLAIT' 'SAN-A'\n",
      " 'PROMEX' 'SOLEILS' 'SHASA' 'ARAWANE' 'BARA MUSSO' 'BONOR' 'DAGANI' 'ECO'\n",
      " 'LUXOR' 'YAZZ' 'AKWAABA' 'ANDALOUSI' 'F-GUARD' 'GAZA SUPER' 'GOUSTA'\n",
      " 'GOUSTO' 'HASSANE' 'KOIMA' 'LA SIGNORA' 'NIINA' 'OLEOR' 'THE FLECHA'\n",
      " 'ZAHRA' \"REFRAI'\" 'ABLE FARM' 'LEA' 'SANTEX' 'SUPER CAFÉ' 'TOP SOAP'\n",
      " 'BONVIE' 'MIMIDO SPIGA' 'AMI' 'RAFHA' 'SAVOR' 'SO KLIN' 'ASHFORD' 'BEKO'\n",
      " 'FLUOGEL' 'THE LAUGHING COW' 'ACE CLASSIC' 'BLUE BAND' 'LAFLA' 'CEREAMIL'\n",
      " 'MALTA GUINNESS' 'SABA' 'AQUALIS' 'ARMONIA' 'CLEVER DOCTOR' 'DANONE'\n",
      " 'DIYALAC' 'CROWN CAFE' 'UNBRANDED' 'GINO' 'LAVONCE' 'XXL ENERGY'\n",
      " '100% ENERGY' 'BRIDEL' 'COMMANDO' 'DOPPEL' 'KING LEGEND' 'RED BULL'\n",
      " 'VITA MALT' 'VITAMILK' 'BUCOFRESH' 'COSMOOSSE' 'FRES' 'FRIZY' 'LUNA'\n",
      " 'PIPPO' 'THE VERT' 'ELYSEE' 'GINNY' 'CANAL' 'KDO' 'MAXI PULPY'\n",
      " 'VIGOR DOCTOR' 'JOYCE' '3XL ENERGY' 'BIENCO' 'CHOCOFUN' 'DALAN'\n",
      " 'EKLAMOUSSE' 'TAMPICO' 'WHITE UP' 'X-PLUS' 'BAVARIA' 'PHOSPHATINE'\n",
      " 'CHARLIE' 'REAL MIX' '5 STAR' 'BLEDILAIT' 'DJATOU' 'EXCELLENCE'\n",
      " 'FRANCE LAIT' 'GUIGOZ' 'KLEESOFT' 'NAN' 'NURSIE' 'NURSIE CONFORT'\n",
      " 'NURSIE EXPERTISE' 'TOREN' \"BLE D'OR\" 'AMBASSADOR' 'BUFFLE CHINA'\n",
      " '4X ENERGY' 'DAIRYLAND' 'CAFE FORCE 2' 'REFLEX' 'SM' 'CEBON' 'BRICO'\n",
      " 'LE BON' 'AJINOMOTO' 'BON GOUT' 'ALIVE' 'BON GOÛT' 'VEGA' 'ANGOLA'\n",
      " 'CAFE NIGER' 'CHAYA' 'MAHRA' 'SPRING' 'BON APPETIT' 'H & H' 'KOKADJE'\n",
      " 'MAYOR' 'RICHOCO' '4G ENERGY' 'A & B' 'AMAAMA' 'PRESSEA MINI' 'LAZIZA'\n",
      " 'MIRACULOUS' '4 AIR' 'CAPRI SUN' 'EBENE' 'FLOU JUNIOR' 'FLUOKIDS'\n",
      " 'LESIEUR' 'NARTA' 'NETTO TEA' 'NIVEA' 'NUTELLA' 'PANZANI' 'PRIMAVERA'\n",
      " 'SUPER CLEAN' 'SALISA' 'AFRICA POWER LABEL' 'ELEPHANT' 'KIKORA'\n",
      " 'APREAFRESH' 'ARABOU' 'BELKIS' 'CHOCOMAX DUO' 'CLEAN EXTRA' 'DAFANI'\n",
      " 'DORCO' 'SOVENA' 'GOLDEN VICTORIA' 'NAOMI' 'NESQUIK' 'NITA' 'NUTRIBOM'\n",
      " 'PRESSEA SELECTION' 'ST LOUIS' 'ARIEL' 'DELICE DE FRUITS' 'PULP'\n",
      " 'IRISH SPRING' 'MIRINDA' 'PEAK' 'UBER' 'BLANCO' 'ROCH' 'MILLAC' 'NOURILA'\n",
      " 'PREMIER TEA' 'THE MASSACHI' 'WARGA' 'TOP CAFE' 'BOSS' 'GOOD DOCTOR'\n",
      " 'TOP MILK' 'GOLDEN BEST' 'TAUREAU' 'ABEKO' 'HOKAM' 'M 114 IMMO' 'SOMA'\n",
      " 'UNO' 'AQUA' 'BONJOUR' 'DR COLLINS' 'OBA MAKARNA' 'PRO ORAL' 'RECHEIO'\n",
      " 'FOUR COWS' 'BON TEA' 'CHEVAL' 'TARLTON' 'MAXAM FRESH' 'LALA'\n",
      " 'JUST POWER' 'MXK' 'SANA ABC' 'SMELL FRESH' 'BAGNON' 'THE KOUTAM'\n",
      " 'PURELINE' 'COOL WHITE' 'MEKAKO' 'MOK' 'PASTA BOUBA' 'SMOKERS'\n",
      " 'ALKAHOUSSARA' 'COW MILK' 'DAGABA' 'DOMO BOLEO' 'FRUISTY' 'KIRA'\n",
      " 'SELECT CAFE' 'SUPER CAFE' 'SAU-K COLORING' 'DENTYL' 'DR JOY WISE'\n",
      " 'MAGG GROWN' 'JADU' 'SUPER TEA' 'RIO FRESH' 'SALAMA' 'COMPAL' 'MAX FLY'\n",
      " 'RHINO' 'BIGOO' 'DAY BY DAY' 'EPIDERM' 'PENICILLIN' 'MAMBO' 'ABC' 'ABENA'\n",
      " '10 OVER 10' '3X' 'AKADI' 'MAXAM' 'TOP-SOLEIL' 'PREMIUM' 'DARCI'\n",
      " 'JET STAR VIP' 'ECO BROWN' 'CHEF KING' 'MADINA' 'PANTHERA' 'RIAL'\n",
      " 'P-GUARD' 'POPY' 'MAGG VIPCOLA' 'COSMO' 'ANNA' 'XMED' '220 VOLT ENERGY'\n",
      " 'PAGANINI' 'OLE' 'AMBASSADOR PRESIDENT' 'AMORA' 'CHOCOPAIN' 'EVEN'\n",
      " 'PRESIDENT' 'CARO OIL' 'PALMAS' 'PALMES' 'SECRET COMPLEXION' 'ULTIMATE'\n",
      " 'BLEDINE' 'PAYSAN BRETON' 'CASINO' 'TAFISSA' 'SCHWEPPES' 'AQUA FAMILIA'\n",
      " 'AXE' 'HELLO KITTY' 'SAVONET' 'SENSODYNE' 'FERSEN' 'R7'\n",
      " 'LAITERIES DES ARDENNES' 'ROYAL SOLEILS' 'LE PETIT MATIN' 'MADILLA'\n",
      " 'BADROU' 'GAO LAMA' 'VANDAM' 'DORA' 'CHOCOQUICK' 'ROSE' 'HUNDRED DRAGONS'\n",
      " 'CEMOI' 'MIXA' 'MIXA BEBE' 'DS 8' 'ELLE & VIRE' 'AMIGO' 'AQUAFRESH'\n",
      " 'PETIT MATIN' 'MOVA' 'TAT MARKANA' 'PÉGASE' 'DELICIEUX' 'TOP' 'MIFA'\n",
      " 'AKIM' 'USHUAIA' 'TRADEKEY' 'ORAL MAX' 'AKG' 'FLASH WELL BEING'\n",
      " 'AIGLE FORT' 'CHOCO AMIGO' 'BELLE MONA' 'OBA NIDO' 'AMGOLA'\n",
      " 'PUR MARSEILLAIS' 'SPAGHETTI MAKAROMA' 'LAIT DE FRANCE' 'CAUVIN'\n",
      " 'CEMOI PRO' 'BACTERIL' 'BOCAGE' 'COLA CAO' 'DOVE' 'LE PETIT MARSEILLAIS'\n",
      " 'LAVITA MOUSSE+' 'BENI' 'FIZZY' 'AMIRA' 'YONG AILI' 'FAMILY' 'MATANTI'\n",
      " 'JEWEL' 'NICEONE' 'SAFI' 'FAMILIA' 'ARCOIRIS' 'EXCELLA' 'ZAM ZAM' 'MADO'\n",
      " 'MAKAROMA' 'LE PUR MARSEILLAIS' 'ARMANTI' 'BAMBA' 'AZMIR' 'FRUITA'\n",
      " 'CONNERT DJIMBA' 'TOULI BONBON' 'STYL' '7 UP' 'ROCCO' 'ISIATE BENEFICIOS'\n",
      " 'UNIVERS' 'LYNA' 'AVOCADO' 'BRUT' 'CARO WHITE' 'SULTAN ALI' 'SUNDROP'\n",
      " 'LEBON' 'TAK TAK' 'FRUITY' 'X PLUS' 'HAPPY FLAKES' 'JADIDA' 'NOVA'\n",
      " 'MARSILIA' 'KABAKROU' 'NORA' 'HAYAT' 'DIVARF' 'CAFE BONJOUR' 'MILKANA'\n",
      " 'CAFE TIKKU' 'MY MILK' 'ATHENA' 'CHOCOLAC' 'ECLAT WHITE' '24 HOURS' 'JOY'\n",
      " 'FANNY' 'GOLDEN PENNY' 'REMIX' 'MIX' 'SAFFY' 'JOLI' \"L'ABIDJANAISE\"\n",
      " 'CLAIR LISS' 'KITCHEN COMPETITION' 'BALONA' 'BBL ENERGY' 'OBA'\n",
      " 'SUPER JOY' 'CASSILLA' 'LUCKY' 'CHALE' 'VERMICELLI' 'PAW PAW' 'BASMA'\n",
      " 'PRIME' 'BLACKBERRY' 'MISS' 'MOI' 'VASELINE' 'FROTO' 'CAFE BRAZIL'\n",
      " 'SUPER DELICIEUX' 'NAYA' 'FARAGELLO' 'COOL BREEZE' 'ALTA MODA' 'ADOM'\n",
      " 'CLEANOL' 'CARO LIGHT' 'STRONG SHAKE' 'CANDY UP' 'COCOA EXPERT' 'ADONA'\n",
      " 'CUZY' 'ALAVIE' 'RAWDA' 'GOLDY' 'ATLANTA' 'MAXY PULPY' 'SANGA' 'SUNLIGHT'\n",
      " 'EXTRA POWER' 'DENI' 'ESTELLA' 'MALTAMAX' 'CAFE TENDÉ' 'PEPSI' 'SALWA'\n",
      " 'BELLAIT' 'CARABAO' 'HOLLANDPARK' 'GOLDEN' 'MORNING FAVOUR' 'DÉLICIEUSE'\n",
      " 'CAMEL' 'XPLOZA' 'WALMA' 'AZIME' 'SAGIKO' 'KABALA' 'MONICA'\n",
      " 'STUTE SUPERIOR' 'ARLA' 'KORIA' 'MAXLIFE' 'CAROTONE' 'CITROLIGHT'\n",
      " 'DÉLICIEUX' 'EUROPA' 'DEMBO LAIT' 'ANGEL' 'PRAN' 'CIF' 'VINUT' 'OBAAPA'\n",
      " 'BLEDILAIT KIDS' 'LADY WHITE' 'MAGUIDA' 'SAMBA' 'MOMO' 'LUCOZADE'\n",
      " 'COOL UP' 'REMIA' 'ROSA' 'COLZA' 'DELTA MILKO' 'U-FRESH' 'BIG'\n",
      " 'KING LION ENERGY' 'EVERVESS' 'G-GUARD' 'LEADER LAIT' 'PRO LAIT'\n",
      " 'SMART COLLECTION' 'AICHA' 'T GUARD' 'FAN DANGO' 'G-GUIDE' \"L'AMI\"\n",
      " 'MONDO' 'LIFEBUOY' 'SUN TOP' 'SPA' 'SOPP' 'CHAMEAU' 'SAF SAP' 'DOUBA'\n",
      " 'MULIK' \"SAC'S\" 'TENORIO' 'VICCO' 'NINOLAC' 'MADAR' 'PASTA DOUBA'\n",
      " 'PROLIX' 'B-52' 'FOCUS' 'RAGEL' '321 ENERGY BLAST' 'DETTOL' 'QAP THE'\n",
      " 'THE YASSA' 'HELIOPOL' 'VEVE' 'YAS' 'JAY GOLD BOND' 'PHARMAPUR' 'CAOLA'\n",
      " 'CHOCOCUBE' 'LOVIA' 'DON SIMON' 'MOCITOS' 'DOCTOR' 'BELMA' 'JET COOL'\n",
      " 'ALOE FIRST' 'CRYSTAL' 'EVVEL' 'FAB X' 'COTTERLEY' 'MEGA FRESH' 'FATOU'\n",
      " 'PASTA AROMA' 'EMOTIONS' 'BUFFALO' 'FORCE 10' 'INCOLAC' 'NADRO' 'GUIRO'\n",
      " 'RAISSA' 'PROXIL' 'KIMOUSS' 'PLAISIR' 'IVORIA' 'BABY WHITE' 'BABYMED'\n",
      " 'BERRY' 'CADUM' 'DIAMOND WHITE' 'IDOLE' 'ORPLUS' 'SELFIE' 'MR. COOK'\n",
      " 'MACK' 'VALDOR' 'BOOM' 'MARGOR' 'MAGIC MALT' 'MAXO' 'OPTIMA PERFECT'\n",
      " 'CAMEE' 'OE' 'INTENSE' 'MOUNTAIN DEW' 'THE WELY' 'KENZA' 'OAPTHE'\n",
      " 'AVIATOR' 'PREMIER' 'SARAMA' 'COCO PULP' 'STAR DOCTOR' 'CONFO SOAP'\n",
      " 'CADBURY' \"L'EXPRESS\" 'KABISA' 'KRUGER' 'JET' 'MELTON' 'IVOIRIO ENERGY'\n",
      " 'VISADENT' 'TOUJOUR' 'MORGEM' 'TERRA DELYSSA' 'JADOR' 'TAT MAKARNA'\n",
      " 'SALAM TEA' 'DURU' \"BABY'S\" 'CHATON' 'MAMEUN' 'X-TRA' 'MALTINA' 'BARA'\n",
      " 'BONNET BLEU' 'SUPER GAZA' 'JARIBU' 'LEO' 'CERES' 'HELIOS' 'NOVA DERMA'\n",
      " 'GBO' 'FRESH' 'CAROLE' 'JUS DAMOO' 'TASTY FAMILY' 'TWINS ENERGY'\n",
      " 'MERVEILLE' 'FAMICARE' 'PASTA MONDO' 'FLASH THUNDER' 'BUFFLE'\n",
      " \"L'OREAL MEN\" 'E.R.A' '3 JOURS' 'VOLCANO' 'SAFARI DIARY' 'MERYSA'\n",
      " 'TERRA DI OLIO' 'REINE' 'BABYLAS' 'BIG BELL' 'MIKSI' 'GLENOR' 'IRA'\n",
      " 'COPACI' 'PARADISE' 'GIMA' 'HUILOR' 'BOCAGE BRIDEL' 'GRYPHON' 'ELLA'\n",
      " 'TERANGA' 'SONIA' 'NUTRILAC' 'PANDA' 'VALENCIA' 'MY JOY' 'GIMACII'\n",
      " 'BAHARAINE' 'MALIA' 'BABY NAWAL' 'PAVANI' 'JAWWAD' 'VERSACE' 'SAFINA'\n",
      " 'EVERMILK' 'DUKES' 'VANPUR']\n"
     ]
    }
   ],
   "source": [
    "print('BRAND:', df['BRAND'].unique())\n"
   ]
  },
  {
   "cell_type": "code",
   "execution_count": 15,
   "id": "475246b2",
   "metadata": {
    "execution": {
     "iopub.execute_input": "2024-07-11T08:54:39.465070Z",
     "iopub.status.busy": "2024-07-11T08:54:39.464637Z",
     "iopub.status.idle": "2024-07-11T08:54:39.471643Z",
     "shell.execute_reply": "2024-07-11T08:54:39.470463Z"
    },
    "papermill": {
     "duration": 0.022864,
     "end_time": "2024-07-11T08:54:39.474403",
     "exception": false,
     "start_time": "2024-07-11T08:54:39.451539",
     "status": "completed"
    },
    "tags": []
   },
   "outputs": [
    {
     "name": "stdout",
     "output_type": "stream",
     "text": [
      "PACKAGE TYPE: ['CAN' 'PLASTIC BOTTLE' 'SACHET' 'WRAPPED' 'TIN' 'BOX' 'PACK' 'TUBE'\n",
      " 'POUCH' 'GLASS JAR' 'TUB' 'GALLON' 'TETRA PAK' 'JERRY CAN' 'BAG'\n",
      " 'GLASS BOTTLE' 'PLASTIC WRAPPED' 'BUCKET' 'TIN F/TOP' 'UNWRAPPED' 'TIN '\n",
      " 'GLASS JAR ' 'PLASTIC CUP' 'PLASTIC JAR' 'PLASTIC CONTAINER']\n"
     ]
    }
   ],
   "source": [
    "print('PACKAGE TYPE:', df['PACKAGE TYPE'].unique())\n"
   ]
  },
  {
   "cell_type": "code",
   "execution_count": 16,
   "id": "c32c4a6c",
   "metadata": {
    "execution": {
     "iopub.execute_input": "2024-07-11T08:54:39.498678Z",
     "iopub.status.busy": "2024-07-11T08:54:39.498292Z",
     "iopub.status.idle": "2024-07-11T08:54:39.506961Z",
     "shell.execute_reply": "2024-07-11T08:54:39.505718Z"
    },
    "papermill": {
     "duration": 0.02459,
     "end_time": "2024-07-11T08:54:39.510118",
     "exception": false,
     "start_time": "2024-07-11T08:54:39.485528",
     "status": "completed"
    },
    "tags": []
   },
   "outputs": [
    {
     "name": "stdout",
     "output_type": "stream",
     "text": [
      "MANUFACTURER: ['KHAZAAL INDUSTRIES' 'MONARCH BEVERAGES' 'SIPROCHIM' 'AYA FOODS'\n",
      " 'TOP FOODS' 'FRIESLANDCAMPINA' 'EUROLAIT' 'CEMOI' 'UNILEVER'\n",
      " 'THE COCA COLA COMPANY' \"CODY'S DRINKS INTERNATIONAL GMBH\" 'SANIA' 'G21'\n",
      " 'NGO CHEW HONG' 'SDTM' 'LAC PATRIC DAIRIES LTD' 'NESTLE' 'CAPRA'\n",
      " 'JANUS SERVICES' 'ORAL CLEAN' 'SUNTORY' 'SAPLED' 'CONFEZIONATO'\n",
      " 'NUTRIFOODS LTD' 'NICHOLS PLC' 'BRASSERIE BB'\n",
      " 'SHAOXING HEXING TEA CO. LTD.' 'PROFESSIONAL FOOD INDUSTRY'\n",
      " 'HOMEPRO COMPANY LTD' 'ATOU CI' 'SML-CI' 'MADE IN LEBANON' 'LONGRICH'\n",
      " 'S.A.R.C.I.' 'SOLE MIO' 'COLGATE PALMOLIVE' 'SIVOP'\n",
      " 'STAR FRESH ENTREPRISE' 'JOY FOODS' 'SOLIBRA' 'FOODCARE'\n",
      " 'CODYS DRINK INTERNATIONAL' 'PROMASIDOR' 'FOODIBEV INTERNATIONAL'\n",
      " 'PATISEN' 'TK DISTRIBUTION' 'HENKEL' 'N.P.GANDOUR'\n",
      " 'QUALITEA CEYLON (PVT) LTD' 'GLOBAL MED GROUP'\n",
      " 'KOSHAMBH MULTITRED PVT.LTD' 'BRALICO' 'JW EXPORT' 'GIMA' 'MAGG'\n",
      " 'TOP LAIT' 'VIP' 'KOIRA MULTI INDUSTRIES' 'NOUR' 'WILMAR' 'PROLAC'\n",
      " 'LUCINA BV' 'ACALPO PTE LTD' 'PROCTER & GAMBLE' 'TWELLIUM INDUSTRIES LTD'\n",
      " 'MICRO-DIS' 'S2AD' 'SAFID' 'SUNMARK LTD' 'KISSEE' 'MIPA'\n",
      " 'THE HUB TRADING' 'SOFRACOM SAS' 'ISOFOODS' 'AKLIFE TRADING LTD'\n",
      " 'AGRO INDUSTRIES' 'SIQALO FOODS' 'BLUE PEARL' 'SIPARCO' 'SICOPAR'\n",
      " 'GRAND RISE FOOD COMPANY LIMITED' 'ADAM AFRIQUE' 'NADA OIL' 'SODIAPAL'\n",
      " 'GB FOODS' 'SHIRIN ASAL' 'DSK & BROTHERS LTD' 'XUZHOU GOD GIVEN & CO'\n",
      " 'INASEN' 'ITALIAN TRADING COMPANY' 'ARAFAT' 'MILKO'\n",
      " 'ANVERALLY & SONS LTD' 'TROFINA FOOD' 'MR COOK' 'ELYSEE FOOD' 'SAN-A'\n",
      " 'PROMEX' 'SOLEILS' 'SHASA' 'SOMAKOFF' 'SOCIÉTÉ AMINATA KONATE'\n",
      " 'ENTREPRISES KALILOU DOUMBIA' \"KADY'S\" 'LEXTA LTD' 'THE AKWAABA'\n",
      " 'PALMIER TRADING' 'BAMYAP ENTERPRISE' 'GAZA SUPER' 'AVOS GROUP'\n",
      " 'TRAFRULE' 'HASSANE' 'KOREA IMPORTERS ASSOCIATION' 'TOMACI' 'NIINA'\n",
      " 'OLEOR' 'ZHEJIANG HIGHTHEN IMP.E.ENP.CO.LTD' 'NOUVEAU SOLEIL SARL'\n",
      " \"AU SULTANA D'OMAN\" 'ABLE DIARIES' 'CROSS' 'DREAM COSMETICS'\n",
      " 'PT SAYAP MAS UTAMA' 'KATALYST INCORPORATION' 'EASTMAN FOODS' 'MIMIDO'\n",
      " 'RAFHA' 'ISOFOOD' 'CELGO ORAL CARE INC' 'BEL GROUP' 'ACE CLASSIC'\n",
      " 'UPFIELD' 'LAFLA' 'MAJAN FOOD INDUSTRIES LLC' 'DIAGEO'\n",
      " 'PACIFIC INTERLINK' 'GUANGZHOU LILI CHEMICAL DEVELOPMENT.CO.LTD'\n",
      " 'FAN MILK' 'CROWN CAFE' 'UNBRANDED' 'HAPPY SUNSHINE COMPANY LTD' 'LBC'\n",
      " 'MIBEM' 'HOCHWALD FOODS GMBH' 'KRUNGSIAM BEVERAGE COMPANY LTD' 'ZEHRA'\n",
      " 'RED BULL' 'GREEN SPOT CO LTD' 'GREEN SPOT COMPANY LIMITED' 'BUCOFRESH'\n",
      " 'COSMAFRIQUE INTER' 'ANGEL COSMETICS' 'SML' 'MARSA YAG SAN' 'THE VERT'\n",
      " 'OKI GENERAL TRADING LLC' 'CANAL THE' 'AFRICA WEST INDUSTRIES'\n",
      " 'SHANGHAI GUANGXU LTD' 'JOYCE' '3XL' 'DALAN' 'EKLAMOUSSE'\n",
      " 'ACADIA INDUSTRIES LTD' 'SWINKELS FAMILY BREWERS' 'DANONE'\n",
      " 'PHARMACARE INDUSTRIES LTD' 'REAL MIX BEVERAGES GMBH' 'MULTI PAC LTD'\n",
      " 'REGILAIT' 'TOREN GIDA' 'ETIKA DAIRIES SDN BHD' 'BUFFLE TEA'\n",
      " 'ANCOR GROUP GMBH' 'DAIRYLAND' 'UCCAO' 'SAPONIX'\n",
      " 'PALMTOP VEGEOIL PRODUCTS' 'SOCIETE 3F' 'WEST AFRICAN SEASONING CO LTD'\n",
      " 'SUHONG SPICES CO.LTD' 'ALIVE' 'DREAM COSMETIC' 'BON GOÛT' 'VEGA FOODS'\n",
      " 'SOCIETE NIGER INTERNATIONALE' 'KAYSUN GENERAL TRADING LLC' 'DANO FOODS'\n",
      " \"CREATIVE INT'L ENTERPRISES\" 'H&H COMPANY LTD' 'MAYA & CIE' 'MONDELEZ'\n",
      " 'KAIF GMBH' 'SOPH SARL' 'AMAAMA' 'FRIZY' 'GIAS INDUSTRIES' 'GANDOUR'\n",
      " 'SIFAC' 'RUDOLF WILD LTD' 'GROUPE AVRIL' 'NARTA' 'KRUGER GMBH'\n",
      " 'BEIERSDORF' 'FERRERO GROUP' 'PANZANI' 'SICAVE' 'P.R.C' 'VENTURE TEA LTD'\n",
      " 'ELEPHANT' 'MEPTICO' 'APREAFRESH' 'ARABOU' 'SAN TIC' 'FOOD INDUSTRIES'\n",
      " 'ELITE COSMETICS' 'DAFANI' 'DORCO' 'SOVENA'\n",
      " 'MADHU JAYANTI INTERNATIONAL PVT LTD' 'ARUZUBA' 'FAGOU' 'NUTRIMENTAL'\n",
      " 'AGROCI' 'RERI' 'CAP BON DRINKS SOCIETY' 'PEPSICO' 'ORIENTCO' 'GLANBIA'\n",
      " 'BENLEX TRADING PVT' 'THE MASSACHI' 'WARGA' 'PT WING SURYA' 'IMPA'\n",
      " 'GOOD DOCTOR' 'OK FOODS' 'GOLDEN BEST' 'TAUREAU' 'ABEKO' 'HOKAM'\n",
      " 'M 114 IMMO' 'SOMA COSMETICS' 'UNO' 'AQUA' 'CIREP' 'DR COLLINS'\n",
      " 'OBA MAKARNA' 'PRO ORAL' 'VISION EXPORTS FZC' 'FOUR COWS'\n",
      " 'ESWARAN BROTHERS LTD' 'CHEVAL' 'NOUVELLE GEDISPA'\n",
      " 'SHANGHAI MAXAM COMPANY LTD' 'LALA' 'JUST POWER' 'OZLOYAL GIDA TEKSTIL'\n",
      " 'SANA ABC' 'SMELL FRESH' 'BAGNON' 'KOUTAM ET FILS' 'COOL WHITE'\n",
      " 'AMERIC ENTERPRISE' 'LGD LIMITED' 'MOULIN MODERNE' 'SMOKERS'\n",
      " 'ALKAHOUSSARA' 'DEFAF AL- NAHRAYN FOR FOOD INDUSTRIES & BEVERAGES'\n",
      " 'CAREL INDUTRIES LTD' 'CATALYST INCORPORATION' 'SAU-K COLORING'\n",
      " 'CLEVER DOCTOR' 'DR JOY WISE' 'SUNSHINE EAST LTD' 'DANTAKOUSSA SARI'\n",
      " 'IPA' 'SALAMA' 'SUMOL+COMPAL MARCAS' 'MENSE ULKE' 'BRASSIVOIRE'\n",
      " 'SHALINA LABORATORIES' 'PENICILLIN' 'CHOCOCAM' 'EAB PLUS LIMITED'\n",
      " 'AJC TRADING CO LTD' 'KASAPREKO' '3X' 'GZ YIHUA' 'TOP-SOLEIL'\n",
      " 'PREMIUM NUTRITIONALS ENTERPRISE' 'JET STAR VIP' 'CHEF KING' 'MADINA'\n",
      " 'RGSDA' 'P-GUARD' 'AGRO INDUSTRIE' 'SML CI' 'DREAM COSMÉTIC'\n",
      " 'ANNA SOAP & BODY' 'XMED' 'DLD PRODUIT' 'PAGANINI' 'OLE'\n",
      " 'LACTALIS INTERNATIONAL' 'LAITA' 'KAERA' 'PALMAS' 'COPACI'\n",
      " 'STAR COSMETIC' 'KATO INTERNATIONAL LLC' 'PAYSAN BRETON' 'CASINO'\n",
      " 'TAFI SA' 'SCHWEPPES' 'GLAXOSMITHKLINE' 'KHEIR W JOUDA' 'TIMA FOOD'\n",
      " 'SOLAREC' 'ROYAL SOLEILS' 'NOAMI' 'CONTINENTAL COMMODITIES'\n",
      " 'SHRIRIN ASAL' 'BADROU' 'GAO LAMA' 'GENERAL DRINK'\n",
      " 'PROFESSIONAL FOODS INDUSTRIES' 'OMAN MILK PRODUCTS' 'HUNDRED DRAGONS'\n",
      " 'FRIESLAND CAMPINA' 'LASCAD' 'ATOMICS DRINKS' 'RAMSON LTD' 'MTR3S'\n",
      " 'TAT MAKARNACILIK SANAYI VE TICARET AS' 'NOOR INTERNATIONAL'\n",
      " 'HOMEPRO COMPANY LIMITED' 'MULTI COMMODITY INTERNATIONAL'\n",
      " 'AFRICAN CONSUMER PRODUCTS' 'AKIM' 'USHUAIA' 'ORAL MAX' 'KON JE'\n",
      " 'DIABATE RAMATA COMMERÇANTE' 'AIGLE FORT' 'OMEGA TRADING INTERNATIONAL'\n",
      " 'LANGKO' 'S.D.T.M' 'SPAGHETTI MAKAROMA ' 'LAIT DE FRANCE' 'ZAC MITRA'\n",
      " 'TAFI' 'IDILIA FOODS' 'MAIGREMONT' 'KUZHOU GODGIVEN CO LTD'\n",
      " 'WHITE HILLS BEVERAGES LTD' 'PEARL' 'SENICO' 'YONG AILI'\n",
      " 'JTS INTERNATIONALE PTE LTD' 'MATANTI' 'ICC GROUP'\n",
      " 'GHANASINO BORDAR IND LTD' 'SAFI SARL' 'NAFDAR REG SIVOP' 'ARCOIRIS LTD'\n",
      " 'ZAM ZAM' 'BUSINESS VERITY FOR TRADING LTD' 'HENRI ET FRERES'\n",
      " 'MUTLU MAKARNA' 'GIMA CI' 'NGM INTERNATIONAL' 'AZMIR' 'CONNERT DJIMBA'\n",
      " 'TOULI BONBON' 'KEURIG DR PEPPER' 'ISIATE' 'DIBISMA SARL' 'LYNA'\n",
      " 'AVOCADO' 'MINOA BV' 'MYMENSINGH AGRO LTD' '3F' 'SONIA'\n",
      " 'AQUAFRESH LIMITED' 'SOVAROG' 'MED OIL COMPANY' 'KABAKROU'\n",
      " 'SATGURU INTERNAL FZE' 'IFFCO' 'EGYPTIAN DAIRY & FOOD STUFF'\n",
      " 'GIDA FOODS & PRODUCTS' 'MILKANA DAIRY PRODUCTS' 'PRATHNA LTD' 'CHOCOLAC'\n",
      " 'ECLAT WHITE' 'SABEV' 'JOY FOOD' 'FADEM-CI' 'FLOUR MILLS PLC' 'SIAVOM-CI'\n",
      " 'SAYINLAR' 'JOLI' 'NOVA' 'HCOSMETICS' 'CLAIR LISS' 'KITCHEN COMPETITION'\n",
      " 'THREE DREAMER LTD' 'ETS IVOIRE EXPRESS' 'KUCUKKAY DETERJAN' 'SUPER JOY'\n",
      " 'VISION EXPORT FZC' 'GUANGZHOU CITY' 'LUCKY' 'ERIE' 'NUTRIFOOD INDUSTY'\n",
      " 'BLACKBERRY' 'SIPRO-CHIM' 'SUNDA LIMITED' 'MOI FOODS' 'SOTICAM'\n",
      " 'CAFÉ BRAZIL' 'MULTI COMMODITY INTERNATIONAL LTD' 'NAYA FOODS'\n",
      " 'COOL BREEZE' 'ALTA MODA' 'ADOM' 'CLEANOL' 'GLORIA PEROU' 'SIAGRO'\n",
      " 'ADONA' 'GILSAN MANUFACTURING CO. LTD' 'ALAVIE'\n",
      " 'GOOD MARKET ET COMPAGNIE SARL' 'AFRICAN CONSUMER PRODUCT' 'LEMA PTE LTD'\n",
      " 'VEDI COPERCHIO' 'SOHADAF' 'KMZ EXPORTS UNIP' 'ESTELLA FOODS' 'TRAFULE'\n",
      " 'MALTAMAX' 'ADJA' 'OZLOYAL GIDA TEXTIL' 'PALMTOP'\n",
      " 'HOOGWEGT INTERNATIONAL' 'CARABAO' 'VANMAX INTERNATIONAL FOODS LIMITED'\n",
      " 'GOLDEN' 'MORNING FAVOUR' 'SANTINA' 'PZ CUSSONS'\n",
      " 'XL ENERGIE MARKETING SP.' 'TOP FOOD' 'WALMA FOODS LTD'\n",
      " 'KADOOGLU HOLDINNGS' 'CKL' 'KABALA' 'SDTM-CI' 'MONICA' 'STUTE FOODS'\n",
      " 'ARLA FOODS' 'AFRICA  & MIDDLE EAST GENERAL TRADING LLC' 'F&B NUTRITION'\n",
      " 'PAN AFRICAN GENERAL TRADING CORPORATION'\n",
      " 'GRAND RISE FOOD COMPANY LIMINTED' 'ETS MAMADOU NIANGADOU'\n",
      " 'VISION EXPORTS' 'ANGEL' 'PRAN DAIRY LIMITED' 'VINUT' 'AGENCE NETTER'\n",
      " 'BLEDINA' 'LADY WHITE' 'ALESTA' \"CARRE D'OR CI\" 'SDTM.CI'\n",
      " 'MAFRICOM LIMITED' 'COOL UP' 'PRONAC FOODS PRODUCTS'\n",
      " 'REMIA INTERNATIONAL' 'IGNIS INDUSTRIES LIMITED' 'COTRAF CI'\n",
      " 'DELTA FOODS INDUSTRIES' 'U-FRESH ENTERPRISES' 'ELIM BEVERAGES & FOOD'\n",
      " 'CIF & B COMPANY' 'G-GUARD' 'IFDM' 'PRODISA' 'CHRIS ADAMS' 'T GUARD'\n",
      " 'FAN MILK LIMITED' 'G-GUIDE' 'NOVAFRIQUE INDUSTRIES' 'GOYMEN FOODS'\n",
      " 'BIDCO AFRICA' 'CHAMEAU TEA' 'GAIA COMPANY' 'DOUBA' 'OKF CORPORATION'\n",
      " 'BONZEL SA SUISSE' 'MERANI AND SONS' 'BELOURTHE' 'DH INDUSTRIES'\n",
      " 'PASTA DOUBA' 'FOCUS' 'RAGEL' 'CONTINENTAL GROUP' 'RECKITT BENCKISER'\n",
      " 'QAP THE' 'YASSA' 'IFAMCI' 'VEVE' 'YAS' 'CAOLA' 'CHOCO CUBE' 'DON SIMON'\n",
      " 'MARIN MONTEJANO GROUP' 'GUANGZHOU KE LING BIOLOGICAL TECHNOLOGY CO.'\n",
      " 'BELMA' 'JET COOL' 'FOREVER LIVING PRODUCTS' 'OILEX' 'FOREVER DIRECT EU'\n",
      " 'KRÜGER GMBH & CO' 'DEL CO LTD' 'TAMAFRICA'\n",
      " 'BUFFALO ENERGY DRINKS SUISSE' 'MARDI SAS' 'BELGOMILK' 'NADRO' 'GUIRO'\n",
      " 'RAISSA' 'KIMOUSS' 'DIPA SAS' 'BABY WHITE' 'PT ORSON' 'DIAMOND WHITE'\n",
      " 'JABONES PARDO' 'INDUSTRIE ORPLUS' 'SELFIE' 'MR. COOK'\n",
      " 'ETIKA DAIRIES SDN' 'LOUIS DREYFUS' 'CODE EMB' 'UNITED DUTCH BREWERIES'\n",
      " 'KAYSUN GENERAL TRADING DUBAI' 'OPTIMA PERFECT' 'UNHYCOS' 'MOUNTAIN DEW'\n",
      " 'ZHEJIANG CHUNLI TEA' 'HAITONG GROUP' 'OAPTHE' 'BLEU PARFUMS' 'SARAMA'\n",
      " 'STAR DOCTOR' 'WEST AFRICA UNIVERSEL DISTRIBUTION' 'CADBURY COMPANY'\n",
      " 'SADAFOOD' 'MUTALA' 'ELEPHANT TEA' 'JET' 'MJF HOLDINGS LTD' 'ATOU'\n",
      " 'VISADENT' 'MORGEM' 'CHO COMPANY' 'COTRAF' 'ONTARIO INC.'\n",
      " 'ETS OUSMANE LAH ET FRERES' 'EAC' 'GHANDOUR COSMETICS'\n",
      " 'EL PARADIS COSMETIC' 'INTERBRAND S.A.L' 'BARA MUSSO' 'ETS YAHYA' 'MSTCI'\n",
      " 'CERES FRUIT JUICE PTY LTD' 'NGUYEN PHAM VIET BEVERAGE COMPANY'\n",
      " 'SELANGOR HALAL' 'CAROLE' 'LBL-CI' 'TASTY FAMILY'\n",
      " 'MASTER BRAND INTERNATIONAL' 'FAMICARE' 'FLASH THUNDER'\n",
      " 'ASIA BUFFALO PTE LTD' \"L'ORÉAL PARIS\" 'ERAPOLY GLOBAL SON.BHD' 'STGCI'\n",
      " 'ALIMENCO' 'MERYSA' 'TERRA DI OLIO' 'REINE' 'BABYLAS' 'BIG BELL'\n",
      " 'DAIRYGOLD FOOD LIMITED' 'PROMO FRUITS' 'PARADISE' 'HUILOR' 'FOODLUXE'\n",
      " 'BUATAN' 'LAXMI INTERNATIONAL' 'NUTRILAC' 'PANDA' 'AJP AGRO' 'MY JOY'\n",
      " 'GIMACII' 'BAHARAINE' 'AFRIDIA INDUSTRIES' 'KONJE' 'JAWWAD'\n",
      " 'VERSACE ENERGY' 'CISSE ET FRERES' 'PRICE POINT GROUP' 'RAVI FOODS PVT'\n",
      " 'VANPUR']\n"
     ]
    }
   ],
   "source": [
    "print('MANUFACTURER:', df['MANUFACTURER'].unique())"
   ]
  },
  {
   "cell_type": "code",
   "execution_count": 17,
   "id": "720e48b7",
   "metadata": {
    "execution": {
     "iopub.execute_input": "2024-07-11T08:54:39.533249Z",
     "iopub.status.busy": "2024-07-11T08:54:39.532796Z",
     "iopub.status.idle": "2024-07-11T08:54:39.539700Z",
     "shell.execute_reply": "2024-07-11T08:54:39.538590Z"
    },
    "papermill": {
     "duration": 0.021657,
     "end_time": "2024-07-11T08:54:39.542470",
     "exception": false,
     "start_time": "2024-07-11T08:54:39.520813",
     "status": "completed"
    },
    "tags": []
   },
   "outputs": [
    {
     "name": "stdout",
     "output_type": "stream",
     "text": [
      "SEGMENT: ['ENERGY DRINK' 'CARBONATED SOFT DRINK' 'MAYONNAISE' 'BUTTER' 'EDIBLE OIL'\n",
      " 'CONDENSED MILK' 'MILK POWDER' 'EVAPORATED MILK' 'UHT MILK'\n",
      " 'CHOCOLATE POWDER/GRANULAR' 'GEL TOOTH PASTE' 'BAR LAUNDRY DETERGENT'\n",
      " 'TEA BAGS' 'SOLID TOILET SOAP' 'BOUILLON CUBES' 'DRY PASTA'\n",
      " 'COFFEE MIXES' 'INSTANT COFFEE' 'POWDER LAUNDRY DETERGENT' 'TOOTH BRUSH'\n",
      " 'PURE TOMATO PASTE' 'NORMAL TOOTH PASTE' 'LOOSE TEA' 'CHOCOLATE SPREAD'\n",
      " 'CONCENTRATED JUICE' 'BODY CREAM' 'INFANT CEREALS' 'MALTED SOFT DRINK'\n",
      " 'MARGARINE' 'FOOD SEASONING POWDER' 'ANIMAL BASED MILK' 'CHEESE SPREAD'\n",
      " 'PLANT BASED MILK' 'GUM' 'IFFO' 'CHOCOLATE CUBES'\n",
      " 'OTHERS (WATER, OTHER NON-ALCOHOLIC)' 'MONOSODIUM GLUTAMATE'\n",
      " 'SURFACE CLEANERS' 'UNISEX DEODORANT' 'MALE DEODORANT' 'FEMALE DEODORANT'\n",
      " 'DISHWASHERS' 'FRESH FRUIT JUICE' 'FRESH MILK' 'PRALINE'\n",
      " 'RAW COCOA POWDER' 'LIQUID TOILET SOAP' 'ANTISEPTIC' 'INFANT MILK'\n",
      " 'FLAVOURED TOMATO PASTE' 'HAND CREAM'\n",
      " 'OTHER HOME AND HOUSE CARE PRODUCTS' 'LIQUID LAUNDRY DETERGENT']\n"
     ]
    }
   ],
   "source": [
    "print('SEGMENT:', df['SEGMENT'].unique())"
   ]
  },
  {
   "cell_type": "code",
   "execution_count": 18,
   "id": "a9027c69",
   "metadata": {
    "execution": {
     "iopub.execute_input": "2024-07-11T08:54:39.566064Z",
     "iopub.status.busy": "2024-07-11T08:54:39.565199Z",
     "iopub.status.idle": "2024-07-11T08:54:39.572157Z",
     "shell.execute_reply": "2024-07-11T08:54:39.570933Z"
    },
    "papermill": {
     "duration": 0.021648,
     "end_time": "2024-07-11T08:54:39.574878",
     "exception": false,
     "start_time": "2024-07-11T08:54:39.553230",
     "status": "completed"
    },
    "tags": []
   },
   "outputs": [
    {
     "name": "stdout",
     "output_type": "stream",
     "text": [
      "PACK SIXE: ['330ML' '500ML' '300ML' '25ML' '200G' '1.5L' '25L' '450ML' '1KG' '25G'\n",
      " '160G' '16G' '10G' '250ML' '900ML' '225G' '240G' '400G' '20G' '2G' '175G'\n",
      " '4G' '100G' '32G' '1.5G' '15G' '12G' '1G' '150G' '70G' '370G' '85G'\n",
      " '350ML' '170G' '50G' '500G' '1.25L' '140G' '220ML' '200ML' '2KG' '270ML'\n",
      " '148ML' '190G' '1L' '12ML' '90G' '35G' '18G' '3L' '210G' '250G' '40G'\n",
      " '30G' '450G' '22G' '2.2KG' '390G' '520G' '260G' '130G' '5L' '825ML'\n",
      " '125G' '950ML' '56G' '20ML' '120ML' '300G' '275G' '180G' '12.5ML' '375G'\n",
      " '28G' '75G' '60G' '10L' '909ML' '770G' '2.1KG' '4L' '800G' '245ML' '3.8L'\n",
      " '475ML' '26G' '22ML' '580G' '6G' '80G' '380G' '340G' '1.1KG' '132G'\n",
      " '385G' '235ML' '2L' '280ML' '1000ML' '65G' '140ML' '220G' '168G' '75ML'\n",
      " '30ML' '11G' '33CL' '13G' '900G' '270G' '120G' '110G' '14G' '100ML'\n",
      " '50CL' '125ML' '42G' '150CL' '946ML' '290G' '45G' '410G' '33G' '7G'\n",
      " '15ML' '360G' '3KG' '215G' '50ML' '235G' '1.3G' '1100G' '2500G' '1800G'\n",
      " '4540G' '2.5KG' '465G' '950G' '350G' '115G' '650G' '420G' '93G' '113G'\n",
      " '473ML' '25KG' '397G' '135G' '167G' '280G' '430G' '240ML' '625ML' '267G'\n",
      " '230G' '30CL' '225ML' '23ML' '320G' '3800ML' '150ML' '475G' '710G' '630G'\n",
      " '210ML' '947ML' '147G' '425ML' '318ML' '55G' '920ML' '940G' '440G' '415G'\n",
      " '600ML' '750G' '36G' '850G' '20L' '948ML' '8ML' '835G' '17G' '175ML'\n",
      " '325ML' '2200G' '810ML' '320ML' '215ML' '3G' '750ML' '11.7G' '1.08L'\n",
      " '385ML' '255G' '38G' '5G' '480ML' '90ML' '540G' '268G' '21G' '13.7G'\n",
      " '960ML' '700G' '180ML' '1.6G' '275ML']\n"
     ]
    }
   ],
   "source": [
    "print('PACK SIXE:', df['PACK SIZE'].unique())"
   ]
  },
  {
   "cell_type": "code",
   "execution_count": 19,
   "id": "1b0bdf49",
   "metadata": {
    "execution": {
     "iopub.execute_input": "2024-07-11T08:54:39.598121Z",
     "iopub.status.busy": "2024-07-11T08:54:39.597697Z",
     "iopub.status.idle": "2024-07-11T08:54:39.660933Z",
     "shell.execute_reply": "2024-07-11T08:54:39.659231Z"
    },
    "papermill": {
     "duration": 0.078151,
     "end_time": "2024-07-11T08:54:39.663769",
     "exception": false,
     "start_time": "2024-07-11T08:54:39.585618",
     "status": "completed"
    },
    "tags": []
   },
   "outputs": [],
   "source": [
    "import re\n",
    "\n",
    "def clean_text(text):\n",
    "    text = text.lower()\n",
    "    text = re.sub(r'[^a-z0-9\\s]', '', text)\n",
    "    text = text.strip()\n",
    "    return text\n",
    "\n",
    "df['ITEM_NAME'] = df['ITEM_NAME'].apply(clean_text)\n",
    "df['PACK SIZE'] = df['PACK SIZE'].apply(clean_text)\n",
    "df['PACKAGE TYPE'] = df['PACKAGE TYPE'].apply(clean_text)\n",
    "df['BRAND'] = df['BRAND'].apply(clean_text)\n",
    "df['CATEGORY'] = df['CATEGORY'].apply(clean_text)\n",
    "df['MANUFACTURER'] = df['MANUFACTURER'].apply(clean_text)\n",
    "df['SEGMENT'] = df['SEGMENT'].apply(clean_text)"
   ]
  },
  {
   "cell_type": "code",
   "execution_count": 20,
   "id": "28de8c3d",
   "metadata": {
    "execution": {
     "iopub.execute_input": "2024-07-11T08:54:39.687193Z",
     "iopub.status.busy": "2024-07-11T08:54:39.686778Z",
     "iopub.status.idle": "2024-07-11T08:54:39.704003Z",
     "shell.execute_reply": "2024-07-11T08:54:39.702866Z"
    },
    "papermill": {
     "duration": 0.031485,
     "end_time": "2024-07-11T08:54:39.706226",
     "exception": false,
     "start_time": "2024-07-11T08:54:39.674741",
     "status": "completed"
    },
    "tags": []
   },
   "outputs": [
    {
     "data": {
      "text/html": [
       "<div>\n",
       "<style scoped>\n",
       "    .dataframe tbody tr th:only-of-type {\n",
       "        vertical-align: middle;\n",
       "    }\n",
       "\n",
       "    .dataframe tbody tr th {\n",
       "        vertical-align: top;\n",
       "    }\n",
       "\n",
       "    .dataframe thead th {\n",
       "        text-align: right;\n",
       "    }\n",
       "</style>\n",
       "<table border=\"1\" class=\"dataframe\">\n",
       "  <thead>\n",
       "    <tr style=\"text-align: right;\">\n",
       "      <th></th>\n",
       "      <th>ITEM_NAME</th>\n",
       "      <th>CATEGORY</th>\n",
       "      <th>SEGMENT</th>\n",
       "      <th>MANUFACTURER</th>\n",
       "      <th>BRAND</th>\n",
       "      <th>PACK SIZE</th>\n",
       "      <th>PACKAGE TYPE</th>\n",
       "    </tr>\n",
       "  </thead>\n",
       "  <tbody>\n",
       "    <tr>\n",
       "      <th>0</th>\n",
       "      <td>3x energy      330ml can khazaal industries</td>\n",
       "      <td>energy drink</td>\n",
       "      <td>energy drink</td>\n",
       "      <td>khazaal industries</td>\n",
       "      <td>3x energy</td>\n",
       "      <td>330ml</td>\n",
       "      <td>can</td>\n",
       "    </tr>\n",
       "    <tr>\n",
       "      <th>1</th>\n",
       "      <td>3x energy      500ml can khazaal industries</td>\n",
       "      <td>energy drink</td>\n",
       "      <td>energy drink</td>\n",
       "      <td>khazaal industries</td>\n",
       "      <td>3x energy</td>\n",
       "      <td>500ml</td>\n",
       "      <td>can</td>\n",
       "    </tr>\n",
       "    <tr>\n",
       "      <th>2</th>\n",
       "      <td>american cola     original 300ml plastic bottl...</td>\n",
       "      <td>soft drink beverage</td>\n",
       "      <td>carbonated soft drink</td>\n",
       "      <td>monarch beverages</td>\n",
       "      <td>american cola</td>\n",
       "      <td>300ml</td>\n",
       "      <td>plastic bottle</td>\n",
       "    </tr>\n",
       "    <tr>\n",
       "      <th>3</th>\n",
       "      <td>aromate  mayonnaise  with sunflower oil enrich...</td>\n",
       "      <td>edible spread</td>\n",
       "      <td>mayonnaise</td>\n",
       "      <td>siprochim</td>\n",
       "      <td>aromate</td>\n",
       "      <td>25ml</td>\n",
       "      <td>sachet</td>\n",
       "    </tr>\n",
       "    <tr>\n",
       "      <th>4</th>\n",
       "      <td>aya  butter    200g wrapped aya foods</td>\n",
       "      <td>edible spread</td>\n",
       "      <td>butter</td>\n",
       "      <td>aya foods</td>\n",
       "      <td>aya</td>\n",
       "      <td>200g</td>\n",
       "      <td>wrapped</td>\n",
       "    </tr>\n",
       "    <tr>\n",
       "      <th>...</th>\n",
       "      <td>...</td>\n",
       "      <td>...</td>\n",
       "      <td>...</td>\n",
       "      <td>...</td>\n",
       "      <td>...</td>\n",
       "      <td>...</td>\n",
       "      <td>...</td>\n",
       "    </tr>\n",
       "    <tr>\n",
       "      <th>4413</th>\n",
       "      <td>rosa  mayonnaise   premium rich and creamy 1l ...</td>\n",
       "      <td>edible spread</td>\n",
       "      <td>mayonnaise</td>\n",
       "      <td>ignis industries limited</td>\n",
       "      <td>rosa</td>\n",
       "      <td>1l</td>\n",
       "      <td>glass jar</td>\n",
       "    </tr>\n",
       "    <tr>\n",
       "      <th>4414</th>\n",
       "      <td>colza vegetable oil  naturellement riche en om...</td>\n",
       "      <td>edible oil</td>\n",
       "      <td>edible oil</td>\n",
       "      <td>cotraf ci</td>\n",
       "      <td>colza</td>\n",
       "      <td>10l</td>\n",
       "      <td>gallon</td>\n",
       "    </tr>\n",
       "    <tr>\n",
       "      <th>4415</th>\n",
       "      <td>dagaba      370g pouch nutrifoods ltd</td>\n",
       "      <td>tomato paste</td>\n",
       "      <td>pure tomato paste</td>\n",
       "      <td>nutrifoods ltd</td>\n",
       "      <td>dagaba</td>\n",
       "      <td>370g</td>\n",
       "      <td>pouch</td>\n",
       "    </tr>\n",
       "    <tr>\n",
       "      <th>4416</th>\n",
       "      <td>europa   double concentrate tomato paste   400...</td>\n",
       "      <td>tomato paste</td>\n",
       "      <td>pure tomato paste</td>\n",
       "      <td>vision exports</td>\n",
       "      <td>europa</td>\n",
       "      <td>400g</td>\n",
       "      <td>tin</td>\n",
       "    </tr>\n",
       "    <tr>\n",
       "      <th>4417</th>\n",
       "      <td>bama  mayonnaise  lemon  385ml plastic jar gb ...</td>\n",
       "      <td>edible spread</td>\n",
       "      <td>mayonnaise</td>\n",
       "      <td>gb foods</td>\n",
       "      <td>bama</td>\n",
       "      <td>385ml</td>\n",
       "      <td>plastic jar</td>\n",
       "    </tr>\n",
       "  </tbody>\n",
       "</table>\n",
       "<p>4418 rows × 7 columns</p>\n",
       "</div>"
      ],
      "text/plain": [
       "                                              ITEM_NAME             CATEGORY  \\\n",
       "0           3x energy      330ml can khazaal industries         energy drink   \n",
       "1           3x energy      500ml can khazaal industries         energy drink   \n",
       "2     american cola     original 300ml plastic bottl...  soft drink beverage   \n",
       "3     aromate  mayonnaise  with sunflower oil enrich...        edible spread   \n",
       "4                 aya  butter    200g wrapped aya foods        edible spread   \n",
       "...                                                 ...                  ...   \n",
       "4413  rosa  mayonnaise   premium rich and creamy 1l ...        edible spread   \n",
       "4414  colza vegetable oil  naturellement riche en om...           edible oil   \n",
       "4415              dagaba      370g pouch nutrifoods ltd         tomato paste   \n",
       "4416  europa   double concentrate tomato paste   400...         tomato paste   \n",
       "4417  bama  mayonnaise  lemon  385ml plastic jar gb ...        edible spread   \n",
       "\n",
       "                    SEGMENT              MANUFACTURER          BRAND  \\\n",
       "0              energy drink        khazaal industries      3x energy   \n",
       "1              energy drink        khazaal industries      3x energy   \n",
       "2     carbonated soft drink         monarch beverages  american cola   \n",
       "3                mayonnaise                 siprochim        aromate   \n",
       "4                    butter                 aya foods            aya   \n",
       "...                     ...                       ...            ...   \n",
       "4413             mayonnaise  ignis industries limited           rosa   \n",
       "4414             edible oil                 cotraf ci          colza   \n",
       "4415      pure tomato paste            nutrifoods ltd         dagaba   \n",
       "4416      pure tomato paste            vision exports         europa   \n",
       "4417             mayonnaise                  gb foods           bama   \n",
       "\n",
       "     PACK SIZE    PACKAGE TYPE  \n",
       "0        330ml             can  \n",
       "1        500ml             can  \n",
       "2        300ml  plastic bottle  \n",
       "3         25ml          sachet  \n",
       "4         200g         wrapped  \n",
       "...        ...             ...  \n",
       "4413        1l       glass jar  \n",
       "4414       10l          gallon  \n",
       "4415      370g           pouch  \n",
       "4416      400g             tin  \n",
       "4417     385ml     plastic jar  \n",
       "\n",
       "[4418 rows x 7 columns]"
      ]
     },
     "execution_count": 20,
     "metadata": {},
     "output_type": "execute_result"
    }
   ],
   "source": [
    "df"
   ]
  },
  {
   "cell_type": "code",
   "execution_count": 21,
   "id": "40a2a280",
   "metadata": {
    "execution": {
     "iopub.execute_input": "2024-07-11T08:54:39.731276Z",
     "iopub.status.busy": "2024-07-11T08:54:39.730068Z",
     "iopub.status.idle": "2024-07-11T08:54:39.735305Z",
     "shell.execute_reply": "2024-07-11T08:54:39.734205Z"
    },
    "papermill": {
     "duration": 0.020084,
     "end_time": "2024-07-11T08:54:39.737616",
     "exception": false,
     "start_time": "2024-07-11T08:54:39.717532",
     "status": "completed"
    },
    "tags": []
   },
   "outputs": [],
   "source": [
    "# MAKE a new df\n",
    "\n",
    "# new_df = df_clean.loc[:, ['CATEGORY', 'ITEM_NAME', 'SEGMENT', 'PACK SIZE', 'PACKAGE TYPE', 'BRAND']]"
   ]
  },
  {
   "cell_type": "code",
   "execution_count": 22,
   "id": "6f929f97",
   "metadata": {
    "execution": {
     "iopub.execute_input": "2024-07-11T08:54:39.761684Z",
     "iopub.status.busy": "2024-07-11T08:54:39.761329Z",
     "iopub.status.idle": "2024-07-11T08:54:39.765862Z",
     "shell.execute_reply": "2024-07-11T08:54:39.764708Z"
    },
    "papermill": {
     "duration": 0.019222,
     "end_time": "2024-07-11T08:54:39.768170",
     "exception": false,
     "start_time": "2024-07-11T08:54:39.748948",
     "status": "completed"
    },
    "tags": []
   },
   "outputs": [],
   "source": [
    "# new_df"
   ]
  },
  {
   "cell_type": "code",
   "execution_count": 23,
   "id": "e0225273",
   "metadata": {
    "execution": {
     "iopub.execute_input": "2024-07-11T08:54:39.794305Z",
     "iopub.status.busy": "2024-07-11T08:54:39.793904Z",
     "iopub.status.idle": "2024-07-11T08:54:39.799319Z",
     "shell.execute_reply": "2024-07-11T08:54:39.798091Z"
    },
    "papermill": {
     "duration": 0.021041,
     "end_time": "2024-07-11T08:54:39.801949",
     "exception": false,
     "start_time": "2024-07-11T08:54:39.780908",
     "status": "completed"
    },
    "tags": []
   },
   "outputs": [],
   "source": [
    "# !pip install python-levenshtein\n",
    "# from sklearn.feature_extraction.text import TfidfVectorizer\n",
    "# from sklearn.metrics.pairwise import cosine_similarity\n",
    "# from sklearn.cluster import DBSCAN\n",
    "# import Levenshtein\n",
    "# from collections import Counter"
   ]
  },
  {
   "cell_type": "code",
   "execution_count": 24,
   "id": "762a3688",
   "metadata": {
    "execution": {
     "iopub.execute_input": "2024-07-11T08:54:39.826796Z",
     "iopub.status.busy": "2024-07-11T08:54:39.826407Z",
     "iopub.status.idle": "2024-07-11T08:54:39.831486Z",
     "shell.execute_reply": "2024-07-11T08:54:39.830382Z"
    },
    "papermill": {
     "duration": 0.020339,
     "end_time": "2024-07-11T08:54:39.833872",
     "exception": false,
     "start_time": "2024-07-11T08:54:39.813533",
     "status": "completed"
    },
    "tags": []
   },
   "outputs": [],
   "source": [
    "# def calculate_similarity(row1, row2):\n",
    "#     # Calculate similarity based on multiple columns\n",
    "#     name_sim = 1 - (Levenshtein.distance(row1['ITEM_NAME'], row2['ITEM_NAME']) / max(len(row1['ITEM_NAME']), len(row2['ITEM_NAME'])))\n",
    "#     category_sim = 1 if row1['CATEGORY'] == row2['CATEGORY'] else 0\n",
    "#     segment_sim = 1 if row1['SEGMENT'] == row2['SEGMENT'] else 0\n",
    "#     pack_size_sim = 1 if row1['PACK SIZE'] == row2['PACK SIZE'] else 0\n",
    "#     pack_type_sim = 1 if row1['PACKAGE TYPE'] == row2['PACKAGE TYPE'] else 0\n",
    "    \n",
    "#     # Weight the similarities (adjust weights as needed)\n",
    "#     return 0.5 * name_sim + 0.2 * category_sim + 0.15 * segment_sim + 0.1 * pack_size_sim + 0.05 * pack_type_sim"
   ]
  },
  {
   "cell_type": "code",
   "execution_count": 25,
   "id": "b7fb6d47",
   "metadata": {
    "execution": {
     "iopub.execute_input": "2024-07-11T08:54:39.858758Z",
     "iopub.status.busy": "2024-07-11T08:54:39.858384Z",
     "iopub.status.idle": "2024-07-11T08:54:39.863250Z",
     "shell.execute_reply": "2024-07-11T08:54:39.862064Z"
    },
    "papermill": {
     "duration": 0.020515,
     "end_time": "2024-07-11T08:54:39.865554",
     "exception": false,
     "start_time": "2024-07-11T08:54:39.845039",
     "status": "completed"
    },
    "tags": []
   },
   "outputs": [],
   "source": [
    "# def create_similarity_matrix(df):\n",
    "#     n = len(df)\n",
    "#     sim_matrix = np.zeros((n, n))\n",
    "#     for i in range(n):\n",
    "#         for j in range(i+1, n):\n",
    "#             sim = calculate_similarity(df.iloc[i], df.iloc[j])\n",
    "#             sim_matrix[i, j] = sim\n",
    "#             sim_matrix[j, i] = sim\n",
    "#     return sim_matrix"
   ]
  },
  {
   "cell_type": "code",
   "execution_count": 26,
   "id": "5038ba27",
   "metadata": {
    "execution": {
     "iopub.execute_input": "2024-07-11T08:54:39.890702Z",
     "iopub.status.busy": "2024-07-11T08:54:39.890330Z",
     "iopub.status.idle": "2024-07-11T08:54:39.895738Z",
     "shell.execute_reply": "2024-07-11T08:54:39.894565Z"
    },
    "papermill": {
     "duration": 0.020907,
     "end_time": "2024-07-11T08:54:39.898095",
     "exception": false,
     "start_time": "2024-07-11T08:54:39.877188",
     "status": "completed"
    },
    "tags": []
   },
   "outputs": [],
   "source": [
    "# # Cluster merge and recommend\n",
    "\n",
    "# def cluster_products(similarity_matrix, eps=0.2, min_samples=2):\n",
    "#     # Use DBSCAN for clustering\n",
    "#     clustering = DBSCAN(eps=eps, min_samples=min_samples, metric='precomputed')\n",
    "#     return clustering.fit_predict(1 - similarity_matrix)  # Convert similarity to distance\n",
    "\n",
    "# def recommend_name(cluster_products):\n",
    "#     names = [p['ITEM_NAME'] for p in cluster_products]\n",
    "#     return Counter(names).most_common(1)[0][0]\n",
    "\n",
    "# def merge_attributes(cluster_products):\n",
    "#     merged = {}\n",
    "#     for col in ['CATEGORY', 'SEGMENT', 'PACK SIZE', 'PACKAGE TYPE']:\n",
    "#         values = [p[col] for p in cluster_products if pd.notna(p[col])]\n",
    "#         merged[col] = Counter(values).most_common(1)[0][0] if values else None\n",
    "#     return merged"
   ]
  },
  {
   "cell_type": "code",
   "execution_count": 27,
   "id": "c90ab2cf",
   "metadata": {
    "execution": {
     "iopub.execute_input": "2024-07-11T08:54:39.922418Z",
     "iopub.status.busy": "2024-07-11T08:54:39.921589Z",
     "iopub.status.idle": "2024-07-11T08:54:39.926794Z",
     "shell.execute_reply": "2024-07-11T08:54:39.925390Z"
    },
    "papermill": {
     "duration": 0.020103,
     "end_time": "2024-07-11T08:54:39.929234",
     "exception": false,
     "start_time": "2024-07-11T08:54:39.909131",
     "status": "completed"
    },
    "tags": []
   },
   "outputs": [],
   "source": [
    "# #  calculate similarity matrix\n",
    "\n",
    "# similarity_matrix = create_similarity_matrix(new_df)"
   ]
  },
  {
   "cell_type": "code",
   "execution_count": 28,
   "id": "1efbeae8",
   "metadata": {
    "execution": {
     "iopub.execute_input": "2024-07-11T08:54:39.953366Z",
     "iopub.status.busy": "2024-07-11T08:54:39.952935Z",
     "iopub.status.idle": "2024-07-11T08:54:39.957672Z",
     "shell.execute_reply": "2024-07-11T08:54:39.956562Z"
    },
    "papermill": {
     "duration": 0.01955,
     "end_time": "2024-07-11T08:54:39.960034",
     "exception": false,
     "start_time": "2024-07-11T08:54:39.940484",
     "status": "completed"
    },
    "tags": []
   },
   "outputs": [],
   "source": [
    "# print(\"Clustering products...\")\n",
    "# clusters = cluster_products(similarity_matrix)"
   ]
  },
  {
   "cell_type": "code",
   "execution_count": 29,
   "id": "2fc45d78",
   "metadata": {
    "execution": {
     "iopub.execute_input": "2024-07-11T08:54:39.984006Z",
     "iopub.status.busy": "2024-07-11T08:54:39.983545Z",
     "iopub.status.idle": "2024-07-11T08:54:39.988899Z",
     "shell.execute_reply": "2024-07-11T08:54:39.987660Z"
    },
    "papermill": {
     "duration": 0.020063,
     "end_time": "2024-07-11T08:54:39.991282",
     "exception": false,
     "start_time": "2024-07-11T08:54:39.971219",
     "status": "completed"
    },
    "tags": []
   },
   "outputs": [],
   "source": [
    "# print(\"Generating recommendations...\")\n",
    "# new_df['Cluster'] = clusters\n",
    "# new_df['RECOMMENDED_NAME'] = new_df['ITEM_NAME']\n",
    "# for col in ['CATEGORY', 'SEGMENT', 'PACK SIZE', 'PACKAGE TYPE']:\n",
    "#     new_df[f'RECOMMENDED_{col}'] = new_df[col]\n",
    "\n",
    "# for cluster_id in set(clusters):\n",
    "#     if cluster_id == -1:  # DBSCAN noise points\n",
    "#         continue\n",
    "#     cluster_mask = new_df['Cluster'] == cluster_id\n",
    "#     if cluster_mask.sum() > 1:  # Only process clusters with multiple products\n",
    "#         cluster_products = new_df[cluster_mask].to_dict('records')\n",
    "#         recommended_name = recommend_name(cluster_products)\n",
    "#         merged_attributes = merge_attributes(cluster_products)\n",
    "\n",
    "#         new_df.loc[cluster_mask, 'RECOMMENDED_NAME'] = recommended_name\n",
    "#         for col, value in merged_attributes.items():\n",
    "#             new_df.loc[cluster_mask, f'RECOMMENDED_{col}'] = value"
   ]
  },
  {
   "cell_type": "code",
   "execution_count": 30,
   "id": "7de8df6c",
   "metadata": {
    "execution": {
     "iopub.execute_input": "2024-07-11T08:54:40.016182Z",
     "iopub.status.busy": "2024-07-11T08:54:40.015731Z",
     "iopub.status.idle": "2024-07-11T08:54:40.021419Z",
     "shell.execute_reply": "2024-07-11T08:54:40.020131Z"
    },
    "papermill": {
     "duration": 0.021127,
     "end_time": "2024-07-11T08:54:40.023867",
     "exception": false,
     "start_time": "2024-07-11T08:54:40.002740",
     "status": "completed"
    },
    "tags": []
   },
   "outputs": [],
   "source": [
    "# def recommend_for_new_product(new_product, df):\n",
    "#     # Calculate similarity with existing products\n",
    "#     similarities = df.apply(lambda row: calculate_similarity(new_product, row), axis=1)\n",
    "    \n",
    "#     # Find the most similar product\n",
    "#     most_similar_idx = similarities.idxmax()\n",
    "#     most_similar_product = df.loc[most_similar_idx]\n",
    "    \n",
    "#     # Use the recommended name of the most similar product\n",
    "#     recommended_name = most_similar_product['RECOMMENDED_NAME']\n",
    "    \n",
    "#     # Merge attributes\n",
    "#     merged_attributes = {\n",
    "#         'CATEGORY': most_similar_product['RECOMMENDED_CATEGORY'],\n",
    "#         'SEGMENT': most_similar_product['RECOMMENDED_SEGMENT'],\n",
    "#         'PACK SIZE': most_similar_product['RECOMMENDED_PACK SIZE'],\n",
    "#         'PACKAGE TYPE': most_similar_product['RECOMMENDED_PACKAGE TYPE']\n",
    "#     }\n",
    "    \n",
    "#     return recommended_name, merged_attributes"
   ]
  },
  {
   "cell_type": "code",
   "execution_count": 31,
   "id": "8df94c66",
   "metadata": {
    "execution": {
     "iopub.execute_input": "2024-07-11T08:54:40.049088Z",
     "iopub.status.busy": "2024-07-11T08:54:40.048086Z",
     "iopub.status.idle": "2024-07-11T08:54:40.053092Z",
     "shell.execute_reply": "2024-07-11T08:54:40.052037Z"
    },
    "papermill": {
     "duration": 0.019705,
     "end_time": "2024-07-11T08:54:40.055434",
     "exception": false,
     "start_time": "2024-07-11T08:54:40.035729",
     "status": "completed"
    },
    "tags": []
   },
   "outputs": [],
   "source": [
    "# final_df = new_df.loc[:, ['ITEM_NAME', 'CATEGORY', 'SEGMENT', 'PACK SIZE', 'PACKAGE TYPE', 'RECOMMENDED_NAME', 'RECOMMENDED_CATEGORY', 'RECOMMENDED_SEGMENT', 'RECOMMENDED_PACK SIZE', 'RECOMMENDED_PACKAGE TYPE']]"
   ]
  },
  {
   "cell_type": "code",
   "execution_count": 32,
   "id": "45664590",
   "metadata": {
    "execution": {
     "iopub.execute_input": "2024-07-11T08:54:40.079690Z",
     "iopub.status.busy": "2024-07-11T08:54:40.079305Z",
     "iopub.status.idle": "2024-07-11T08:54:40.084343Z",
     "shell.execute_reply": "2024-07-11T08:54:40.083264Z"
    },
    "papermill": {
     "duration": 0.020154,
     "end_time": "2024-07-11T08:54:40.086832",
     "exception": false,
     "start_time": "2024-07-11T08:54:40.066678",
     "status": "completed"
    },
    "tags": []
   },
   "outputs": [],
   "source": [
    "# #  Predicitng for a new product\n",
    "\n",
    "# new_product = {\n",
    "#         'ITEM_NAME': 'Fresh Tomatoes',\n",
    "#         'CATEGORY': 'Produce',\n",
    "#         'SEGMENT': 'Vegetables',\n",
    "#         'PACK SIZE': '500g',\n",
    "#         'PACKAGE TYPE': 'Bag'\n",
    "#     }\n",
    "    \n",
    "# recommended_name, merged_attributes = recommend_for_new_product(new_product, final_df)\n",
    "\n",
    "# print(recommended_name)\n",
    "# print(merged_attributes)"
   ]
  },
  {
   "cell_type": "code",
   "execution_count": 33,
   "id": "34436801",
   "metadata": {
    "execution": {
     "iopub.execute_input": "2024-07-11T08:54:40.111077Z",
     "iopub.status.busy": "2024-07-11T08:54:40.110660Z",
     "iopub.status.idle": "2024-07-11T08:54:40.115634Z",
     "shell.execute_reply": "2024-07-11T08:54:40.114559Z"
    },
    "papermill": {
     "duration": 0.01974,
     "end_time": "2024-07-11T08:54:40.118081",
     "exception": false,
     "start_time": "2024-07-11T08:54:40.098341",
     "status": "completed"
    },
    "tags": []
   },
   "outputs": [],
   "source": [
    "#  final_df['ITEM_NAME'] = final_df['RECOMMENDED_NAME'] + \" \" + final_df['RECOMMENDED_CATEGORY'] + \" \" + final_df['RECOMMENDED_SEGMENT'] + \" \" + final_df['RECOMMENDED_PACK SIZE'] + \" \" + final_df['RECOMMENDED_PACKAGE TYPE']"
   ]
  },
  {
   "cell_type": "code",
   "execution_count": 34,
   "id": "377b0396",
   "metadata": {
    "execution": {
     "iopub.execute_input": "2024-07-11T08:54:40.142651Z",
     "iopub.status.busy": "2024-07-11T08:54:40.141485Z",
     "iopub.status.idle": "2024-07-11T08:54:40.146654Z",
     "shell.execute_reply": "2024-07-11T08:54:40.145644Z"
    },
    "papermill": {
     "duration": 0.019419,
     "end_time": "2024-07-11T08:54:40.148687",
     "exception": false,
     "start_time": "2024-07-11T08:54:40.129268",
     "status": "completed"
    },
    "tags": []
   },
   "outputs": [],
   "source": [
    "# final_df"
   ]
  },
  {
   "cell_type": "code",
   "execution_count": 35,
   "id": "c1a5f3f7",
   "metadata": {
    "execution": {
     "iopub.execute_input": "2024-07-11T08:54:40.173724Z",
     "iopub.status.busy": "2024-07-11T08:54:40.172917Z",
     "iopub.status.idle": "2024-07-11T08:54:40.178017Z",
     "shell.execute_reply": "2024-07-11T08:54:40.176651Z"
    },
    "papermill": {
     "duration": 0.020146,
     "end_time": "2024-07-11T08:54:40.180499",
     "exception": false,
     "start_time": "2024-07-11T08:54:40.160353",
     "status": "completed"
    },
    "tags": []
   },
   "outputs": [],
   "source": [
    "# final_df['ITEM_NAME'].head(10)"
   ]
  },
  {
   "cell_type": "code",
   "execution_count": 36,
   "id": "84814a91",
   "metadata": {
    "execution": {
     "iopub.execute_input": "2024-07-11T08:54:40.205019Z",
     "iopub.status.busy": "2024-07-11T08:54:40.204587Z",
     "iopub.status.idle": "2024-07-11T08:54:40.210027Z",
     "shell.execute_reply": "2024-07-11T08:54:40.208742Z"
    },
    "papermill": {
     "duration": 0.020528,
     "end_time": "2024-07-11T08:54:40.212516",
     "exception": false,
     "start_time": "2024-07-11T08:54:40.191988",
     "status": "completed"
    },
    "tags": []
   },
   "outputs": [],
   "source": [
    "# all_df = final_df.loc[:, ['ITEM_NAME', 'CATEGORY', 'SEGMENT', 'PACK SIZE', 'PACKAGE TYPE', 'RECOMMENDED_NAME', 'RECOMMENDED_CATEGORY', 'RECOMMENDED_SEGMENT', 'RECOMMENDED_PACK SIZE', 'RECOMMENDED_PACKAGE TYPE']]\n",
    "# all_df['ITEM_NAME'] = final_df['ITEM_NAME']\n",
    "# all_df['CATEGORY'] = final_df['RECOMMENDED_CATEGORY']\n",
    "# all_df['SEGMENT'] = final_df['RECOMMENDED_SEGMENT']\n",
    "# all_df['PACK SIZE'] = final_df['RECOMMENDED_PACK SIZE']\n",
    "# all_df['PACKAGE TYPE'] = final_df['RECOMMENDED_PACKAGE TYPE']\n",
    "\n",
    "# all_df.drop(columns=['RECOMMENDED_NAME', 'RECOMMENDED_CATEGORY', 'RECOMMENDED_SEGMENT', 'RECOMMENDED_PACK SIZE', 'RECOMMENDED_PACKAGE TYPE'], inplace=True)"
   ]
  },
  {
   "cell_type": "code",
   "execution_count": 37,
   "id": "98cbd795",
   "metadata": {
    "execution": {
     "iopub.execute_input": "2024-07-11T08:54:40.236379Z",
     "iopub.status.busy": "2024-07-11T08:54:40.235984Z",
     "iopub.status.idle": "2024-07-11T08:54:40.240437Z",
     "shell.execute_reply": "2024-07-11T08:54:40.239355Z"
    },
    "papermill": {
     "duration": 0.019001,
     "end_time": "2024-07-11T08:54:40.242734",
     "exception": false,
     "start_time": "2024-07-11T08:54:40.223733",
     "status": "completed"
    },
    "tags": []
   },
   "outputs": [],
   "source": [
    "# all_df"
   ]
  },
  {
   "cell_type": "code",
   "execution_count": 38,
   "id": "b4473851",
   "metadata": {
    "execution": {
     "iopub.execute_input": "2024-07-11T08:54:40.266716Z",
     "iopub.status.busy": "2024-07-11T08:54:40.266363Z",
     "iopub.status.idle": "2024-07-11T08:54:40.271295Z",
     "shell.execute_reply": "2024-07-11T08:54:40.270112Z"
    },
    "papermill": {
     "duration": 0.019816,
     "end_time": "2024-07-11T08:54:40.273715",
     "exception": false,
     "start_time": "2024-07-11T08:54:40.253899",
     "status": "completed"
    },
    "tags": []
   },
   "outputs": [],
   "source": [
    "# all_df['ITEM_NAME']"
   ]
  },
  {
   "cell_type": "code",
   "execution_count": null,
   "id": "e0f44b99",
   "metadata": {
    "papermill": {
     "duration": 0.011374,
     "end_time": "2024-07-11T08:54:40.296359",
     "exception": false,
     "start_time": "2024-07-11T08:54:40.284985",
     "status": "completed"
    },
    "tags": []
   },
   "outputs": [],
   "source": []
  }
 ],
 "metadata": {
  "kaggle": {
   "accelerator": "none",
   "dataSources": [
    {
     "datasetId": 5363170,
     "sourceId": 8917815,
     "sourceType": "datasetVersion"
    }
   ],
   "isGpuEnabled": false,
   "isInternetEnabled": true,
   "language": "python",
   "sourceType": "notebook"
  },
  "kernelspec": {
   "display_name": "Python 3",
   "language": "python",
   "name": "python3"
  },
  "language_info": {
   "codemirror_mode": {
    "name": "ipython",
    "version": 3
   },
   "file_extension": ".py",
   "mimetype": "text/x-python",
   "name": "python",
   "nbconvert_exporter": "python",
   "pygments_lexer": "ipython3",
   "version": "3.10.13"
  },
  "papermill": {
   "default_parameters": {},
   "duration": 7.333217,
   "end_time": "2024-07-11T08:54:40.830192",
   "environment_variables": {},
   "exception": null,
   "input_path": "__notebook__.ipynb",
   "output_path": "__notebook__.ipynb",
   "parameters": {},
   "start_time": "2024-07-11T08:54:33.496975",
   "version": "2.5.0"
  }
 },
 "nbformat": 4,
 "nbformat_minor": 5
}
